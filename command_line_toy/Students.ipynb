{
 "cells": [
  {
   "cell_type": "code",
   "execution_count": 1,
   "metadata": {
    "collapsed": true,
    "ExecuteTime": {
     "end_time": "2023-11-06T18:48:52.584154700Z",
     "start_time": "2023-11-06T18:48:51.143782600Z"
    }
   },
   "outputs": [
    {
     "name": "stdout",
     "output_type": "stream",
     "text": [
      "Pinged your deployment. You successfully connected to MongoDB!\n"
     ]
    }
   ],
   "source": [
    "import numpy as np\n",
    "from database_connect import client # gets MongoDB client, which gives access to data"
   ]
  },
  {
   "cell_type": "code",
   "execution_count": 2,
   "outputs": [],
   "source": [
    "# constants\n",
    "# default collection used\n",
    "main_collection = \"Section0\""
   ],
   "metadata": {
    "collapsed": false,
    "ExecuteTime": {
     "end_time": "2023-11-06T18:48:53.319969Z",
     "start_time": "2023-11-06T18:48:53.291381700Z"
    }
   }
  },
  {
   "cell_type": "code",
   "execution_count": 3,
   "outputs": [],
   "source": [
    "# examples for visualizing jsons\n",
    "# format of 'all_updates':\n",
    "all_updates_example1 = {\n",
    "    \"overall_avg\": 4.6,\n",
    "    \"communication\": {\n",
    "        \"score\": 4,\n",
    "        \"related_mistakes\": [\"could have been more elaboration and clarity in his explanation.\"]\n",
    "    },\n",
    "    \"interpretation\": {\n",
    "        \"score\": 5,\n",
    "        \"related_mistakes\": []\n",
    "    },\n",
    "    \"computation\": {\n",
    "        \"score\": 5,\n",
    "        \"related_mistakes\": []\n",
    "    },\n",
    "    \"conceptual\": {\n",
    "        \"score\": 4,\n",
    "        \"related_mistakes\": [\"explanation could have included more conceptual details to further enhance his understanding\"]\n",
    "    },\n",
    "    \"time\": {\n",
    "        \"score\": 5,\n",
    "        \"seconds\": 20\n",
    "    }\n",
    "}\n",
    "\n",
    "all_updates_example_all_5 = {\n",
    "    \"overall_avg\": 5,\n",
    "    \"communication\": {\n",
    "        \"score\": 5,\n",
    "        \"related_mistakes\": [\"could have been more elaboration and clarity in his explanation.\"]\n",
    "    },\n",
    "    \"interpretation\": {\n",
    "        \"score\": 5,\n",
    "        \"related_mistakes\": []\n",
    "    },\n",
    "    \"computation\": {\n",
    "        \"score\": 5,\n",
    "        \"related_mistakes\": []\n",
    "    },\n",
    "    \"conceptual\": {\n",
    "        \"score\": 5,\n",
    "        \"related_mistakes\": [\"explanation could have included more conceptual details to further enhance his understanding\"]\n",
    "    },\n",
    "    \"time\": {\n",
    "        \"score\": 5,\n",
    "        \"seconds\": 20\n",
    "    }\n",
    "}\n"
   ],
   "metadata": {
    "collapsed": false,
    "ExecuteTime": {
     "end_time": "2023-11-06T18:48:53.457176200Z",
     "start_time": "2023-11-06T18:48:53.437711300Z"
    }
   }
  },
  {
   "cell_type": "code",
   "execution_count": 4,
   "outputs": [],
   "source": [
    "# recursively create JSON\n",
    "def obj_to_dict(obj):\n",
    "    # recursive calls run depending on if the call's obj is a list, dictionary, object, or primitive ( int, string, float, etc)\n",
    "    if isinstance(obj, list): # if list\n",
    "        return [obj_to_dict(e) for e in obj]\n",
    "    elif isinstance(obj, dict): # if dictionary or object\n",
    "        return {key: obj_to_dict(value) for key, value in obj.items()}\n",
    "    elif hasattr(obj, '__dict__'): # if object\n",
    "        return {key: obj_to_dict(value) for key, value in obj.__dict__.items()}\n",
    "    else: # if primitive\n",
    "        return obj\n",
    "\n",
    "# converts dictionary into student object\n",
    "def dict_to_student(dict_data):\n",
    "    # print(dict_data)\n",
    "    # Initialize student Object\n",
    "    student = Student(dict_data['name'], dict_data['grade'])\n",
    "\n",
    "    # Initialize and fill subtopics\n",
    "    for subtopic_data in dict_data['subtopics']:\n",
    "        subtopic = Subtopic(subtopic_data['name'], subtopic_data['level'])\n",
    "        subtopic.num_questions_answered = subtopic_data['num_questions_answered']\n",
    "\n",
    "        metrics_data = subtopic_data['metrics']\n",
    "        metrics = Metrics()\n",
    "\n",
    "        for metric_name, metric_data in metrics_data.items():\n",
    "            metric = Metric()\n",
    "            metric.avg_score = metric_data['avg_score']\n",
    "            metric.previous_scores = metric_data['previous_scores']\n",
    "\n",
    "            if 'avg_time' in metric_data:\n",
    "                metric.avg_time = metric_data['avg_time']\n",
    "            if 'recent_times' in metric_data:\n",
    "                metric.recent_times = metric_data['recent_times']\n",
    "            if 'related_mistakes' in metric_data:\n",
    "                metric.related_mistakes = metric_data['related_mistakes']\n",
    "\n",
    "            setattr(metrics, metric_name, metric)\n",
    "\n",
    "        subtopic.metrics = metrics\n",
    "        student.subtopics.append(subtopic)\n",
    "\n",
    "    return student\n"
   ],
   "metadata": {
    "collapsed": false,
    "ExecuteTime": {
     "end_time": "2023-11-06T18:48:53.615625400Z",
     "start_time": "2023-11-06T18:48:53.586579100Z"
    }
   }
  },
  {
   "cell_type": "code",
   "execution_count": 5,
   "outputs": [],
   "source": [
    "class StudentsCollection:\n",
    "    def __init__(self, collection = \"Section0\"):\n",
    "        database = client[\"Students\"]\n",
    "        self.name = collection\n",
    "        self.collection = database[collection] # a collection ( ex: Section0)\n",
    "\n",
    "    def add_student(self,student):\n",
    "        # make student into dictionary format\n",
    "        student_dict = student.in_dict_format()\n",
    "        self.collection.insert_one(student_dict)\n",
    "        print(f\"{student.name} has been added to collection: {self.name}\")\n",
    "\n",
    "    # takes in student's name\n",
    "    # returns wanted student from database or None (student is not in database)\n",
    "    def get_student(self, student_name):\n",
    "        query = {\"name\": student_name}\n",
    "        # Fetch the student data as a list\n",
    "        student_dict_list = list(self.collection.find(query))\n",
    "        try:\n",
    "            if not student_dict_list:  # Checks if the list is empty\n",
    "                raise ValueError(\"No student found with the given name.\")\n",
    "            # Get the first student_dict from the list (assuming there should only be one)\n",
    "            student_dict = student_dict_list[0]\n",
    "            # Do something with student_dict\n",
    "            student_obj = dict_to_student(student_dict)\n",
    "            print(\"Student found:\", student_obj.name)\n",
    "            return student_obj\n",
    "\n",
    "        except ValueError as e:\n",
    "            print(e)\n",
    "\n",
    "    def delete_student(self,student):\n",
    "        query = {\"name\": student.name}\n",
    "        self.collection.delete_one(query)\n",
    "        print(f\"{student.name} has been deleted from collection: {self.name}\")\n",
    "\n",
    "    # gets list of all students in collection\n",
    "    def current_student_names(self):\n",
    "        student_names = []\n",
    "        student_data = list(self.collection.find())\n",
    "\n",
    "        for datam in student_data:\n",
    "\n",
    "            student_names.append(datam[\"name\"])\n",
    "        return student_names\n",
    "\n",
    "class Student:\n",
    "    def __init__(self,name, grade: float):\n",
    "        self.name = name\n",
    "        self.grade = grade\n",
    "        self.subtopics = [] # array of Subtopic objects\n",
    "\n",
    "    def in_dict_format(self):\n",
    "        return obj_to_dict(self)\n",
    "    \n",
    "    def current_subtopic_names(self):\n",
    "        if not len (self.subtopics) == 0:\n",
    "            return list(map(lambda subtopic: subtopic.name, self.subtopics))\n",
    "\n",
    "    def get_subtopic(self,subtopic_name):\n",
    "        \n",
    "        for i,name in enumerate(self.current_subtopic_names()):\n",
    "            if name == subtopic_name:\n",
    "                print(f\" {subtopic_name} is already in {self.name}'s database\")\n",
    "                \n",
    "                return self.subtopics[i]\n",
    "        # if name not found\n",
    "        print(f\"{subtopic_name} not found in database, so it will be created\")\n",
    "        subtopic = Subtopic(subtopic_name,1)\n",
    "        return subtopic\n",
    "    \n",
    "    def add_subtopic(self,subtopic):\n",
    "        return self.subtopics.append(subtopic)\n",
    "  "
   ],
   "metadata": {
    "collapsed": false,
    "ExecuteTime": {
     "end_time": "2023-11-06T18:48:53.772098300Z",
     "start_time": "2023-11-06T18:48:53.754000500Z"
    }
   }
  },
  {
   "cell_type": "code",
   "execution_count": 1,
   "outputs": [],
   "source": [
    "# SC = StudentsCollection()\n",
    "# Alice = SC.get_student(\"Alice Carter\")\n",
    "# Alice.current_subtopic_names()"
   ],
   "metadata": {
    "collapsed": false,
    "ExecuteTime": {
     "end_time": "2023-11-06T21:15:53.823265200Z",
     "start_time": "2023-11-06T21:15:53.812738800Z"
    }
   }
  },
  {
   "cell_type": "code",
   "execution_count": null,
   "outputs": [],
   "source": [
    "  \n",
    "        \n",
    "\n",
    "class Subtopic:\n",
    "    def __init__(self, name, level = 1):\n",
    "        # how many questions you answered for each of the 5 levels of a topic\n",
    "        self.name = name\n",
    "        self.level = level # range: 1 - 5\n",
    "        self.num_questions_answered = [0,0,0,0,0] # on slot per level (5 total levels)\n",
    "        # self.num_questions_answered = [5,5,5,5,5]\n",
    "        self.metrics = Metrics()\n",
    "\n",
    "    # resets metrics\n",
    "    def clear_metrics(self):\n",
    "        self.metrics = Metrics()\n",
    "        \n",
    "    # updates the level if the metrics have a perfect score for the last 5 questions\n",
    "    def update_level(self):\n",
    "        #check teh amount of questions answered for the current level\n",
    "        ques_answered = self.num_questions_answered\n",
    "        num_questions_current_level = ques_answered[self.level-1] # -1 b/c of 0 based indexing\n",
    "        # if a student has been asked 5 questions, AND the average score for the metrics is 5...... increment the level\n",
    "        average_score_current_level = self.metrics.overall_avg.avg_score\n",
    "        # print(num_questions_current_level )\n",
    "        if num_questions_current_level == 5 and average_score_current_level == 5:\n",
    "            self.level += 1\n",
    "            print(f\"Subtopic '{self.name}' has been upgraded to level {self.level}\")\n",
    "        else:\n",
    "            print(\"level has not been updated\")\n",
    "\n",
    "    # metric_updates: string or json or dictionary: updates that need to be done for metrics \n",
    "    def update_subtopic(self, all_updates):\n",
    "        # find level\n",
    "        # print(\"current level \", self.level)\n",
    "        level = self.level\n",
    "        # update the metrics\n",
    "        self.metrics.update(all_updates)\n",
    "        # update the amount of quesitons\n",
    "        # add 1 to the index that corresponds to the level ( \"index -1\" because the array is 0 based)\n",
    "        self.num_questions_answered[level-1] +=1\n",
    "        # update the level if needed\n",
    "        self.update_level()\n",
    "\n",
    "    # returns and prints subtopic data in a json\n",
    "    def to_json(self):\n",
    "        subtopic_json = {\n",
    "            \"name\": self.name,\n",
    "            \"level\": self.level,\n",
    "            \"num_questions_answered\": self.num_questions_answered,\n",
    "            \"metrics\": self.metrics.to_json()  # Convert metrics to JSON\n",
    "        }\n",
    "\n",
    "        # subtopic_json = json.dumps(subtopic_json, indent=1)\n",
    "        print(subtopic_json)\n",
    "        return subtopic_json  # Return the JSON string with indentation"
   ],
   "metadata": {
    "collapsed": false,
    "ExecuteTime": {
     "start_time": "2023-11-06T18:48:54.457568500Z"
    }
   }
  },
  {
   "cell_type": "code",
   "execution_count": null,
   "outputs": [],
   "source": [
    "\n",
    "\n",
    "class Metrics:\n",
    "\n",
    "    def __init__(self):\n",
    "        self.overall_avg = Metric(\"overall_avg\")\n",
    "        self.communication = Metric()\n",
    "        self.interpretation = Metric()\n",
    "        self.computation = Metric()\n",
    "        self.conceptual = Metric()\n",
    "        self.time = Metric(\"time\")\n",
    "\n",
    "    # returns dictionary of mistakes\n",
    "    # key = metric type, value: the actual mistakes\n",
    "    def get_all_mistakes(self):\n",
    "        mistakes = {}\n",
    "        mistakes[\"communication\"] = self.communication.related_mistakes\n",
    "        mistakes[\"interpretation\"] = self.interpretation.related_mistakes\n",
    "        mistakes[\"computation\"] = self.computation.related_mistakes\n",
    "        mistakes[\"conceptual\"] = self.conceptual.related_mistakes\n",
    "        return mistakes # convert dict to string\n",
    "\n",
    "    # update metric given update metrics in json/dict\n",
    "    def update(self, all_updates):\n",
    "        # attributes each metric has\n",
    "        # if the json does not have a value for an update, the value in the Metric object will remain unchanged\n",
    "        avg_comm = self.communication.update(all_updates[\"communication\"])\n",
    "        avg_interp = self.interpretation.update(all_updates[\"interpretation\"])\n",
    "        avg_comp = self.computation.update(all_updates[\"computation\"])\n",
    "        avg_conc = self.conceptual.update(all_updates[\"conceptual\"])\n",
    "        avg_time = self.time.update(all_updates[\"time\"])\n",
    "        # update overall_avg\n",
    "        # get average score of the newly calculated metrics\n",
    "        new_average = np.mean([avg_comm,avg_interp,avg_comp,avg_conc,avg_time])\n",
    "        # print(f\"\\n calculating overall avg\")\n",
    "\n",
    "        prev_scores = self.overall_avg.previous_scores\n",
    "        prev_scores.append(new_average)\n",
    "        if len(prev_scores) == 6:\n",
    "            prev_scores.pop(0)\n",
    "\n",
    "        # us the average of average scores to get the new \"overall avg\" score\n",
    "        self.overall_avg.avg_score = np.mean(prev_scores)\n",
    "\n",
    "        # print(\"score avg\", self.overall_avg.avg_score)\n",
    "        # print(\"previous scores\",self.overall_avg.previous_scores)\n",
    "    def to_json(self):\n",
    "        metrics_json = {\n",
    "            \"overall_avg\": self.overall_avg.to_json(),\n",
    "            \"communication\": self.communication.to_json(),\n",
    "            \"interpretation\": self.interpretation.to_json(),\n",
    "            \"computation\": self.computation.to_json(),\n",
    "            \"conceptual\": self.conceptual.to_json(),\n",
    "            \"time\": self.time.to_json()\n",
    "        }\n",
    "        return metrics_json\n"
   ],
   "metadata": {
    "collapsed": false,
    "ExecuteTime": {
     "start_time": "2023-11-06T18:48:54.458574500Z"
    }
   }
  },
  {
   "cell_type": "code",
   "execution_count": null,
   "outputs": [],
   "source": [
    "\n",
    "class Metric:\n",
    "    # special types: time, overall_avg\n",
    "\n",
    "    # order of recent_times and related mistakes (oldest..... newest)\n",
    "    def __init__(self, metric_type = None):\n",
    "        self.avg_score = 0\n",
    "        self.previous_scores = []\n",
    "        if metric_type == \"time\":\n",
    "            self.avg_time = None\n",
    "            self.recent_times = []\n",
    "        elif metric_type != \"overall_avg\" and metric_type != \"time\" :\n",
    "            self.related_mistakes = []\n",
    "\n",
    "    # updates metrics given json of new data\n",
    "    # NOT USED to update overall_avg ( can only be updated in \"Metrics\" object\n",
    "    # update: JSON\n",
    "    # returns average score for metric\n",
    "    def update(self, update):\n",
    "        # get metrics previous scores\n",
    "        prev_scores = self.previous_scores\n",
    "        # add new score,\n",
    "        prev_scores.append(update[\"score\"])\n",
    "        # remove oldest score\n",
    "        if len(prev_scores) == 6:\n",
    "            prev_scores.pop(0)\n",
    "        # get the average\n",
    "        self.avg_score = np.mean(prev_scores)\n",
    "        # print(\"score avg\", self.avg_score)\n",
    "        # print(\"previous scores\",self.previous_scores)\n",
    "\n",
    "        # replace related mistakes\n",
    "        if hasattr(self, 'related_mistakes') and not self.avg_time: # if the section has a related_mistakes section, and section is NOT time:\n",
    "            self.related_mistakes = update[\"related_mistakes\"]\n",
    "            # print(\"related mistakes\",self.related_mistakes)\n",
    "\n",
    "        # if there is  time attribute, update the time data:\n",
    "        if hasattr(self, 'recent_times'):\n",
    "            recent_times = self.recent_times\n",
    "            recent_times.append(update[\"seconds\"])\n",
    "            if len(recent_times) == 6:\n",
    "                recent_times.pop(0)\n",
    "            self.avg_time = np.mean(recent_times)\n",
    "            # print(\"time average\",self.avg_time)\n",
    "            # print(\"recent times\",self.recent_times)\n",
    "\n",
    "        return self.avg_score\n",
    "\n",
    "    def to_json(self):\n",
    "        metric_json = {\n",
    "            \"avg_score\": self.avg_score,\n",
    "            \"previous_scores\": self.previous_scores\n",
    "        }\n",
    "        if hasattr(self, \"avg_time\"):\n",
    "            metric_json[\"avg_time\"] = self.avg_time\n",
    "            metric_json[\"recent_times\"] = self.recent_times\n",
    "        elif hasattr(self, \"related_mistakes\"):\n",
    "            metric_json[\"related_mistakes\"] = self.related_mistakes\n",
    "\n",
    "        return metric_json"
   ],
   "metadata": {
    "collapsed": false,
    "ExecuteTime": {
     "start_time": "2023-11-06T18:48:54.460082900Z"
    }
   }
  },
  {
   "cell_type": "markdown",
   "source": [],
   "metadata": {
    "collapsed": false
   }
  },
  {
   "cell_type": "code",
   "execution_count": null,
   "outputs": [],
   "source": [
    "# testing\n",
    "sub1 = Subtopic(\" basic addition\", 1)\n",
    "sub1.metrics = Metrics()\n",
    "sub1.update_subtopic(all_updates_example_all_5)\n",
    "\n"
   ],
   "metadata": {
    "collapsed": false,
    "ExecuteTime": {
     "start_time": "2023-11-06T18:48:54.462623500Z"
    }
   }
  },
  {
   "cell_type": "code",
   "execution_count": 1,
   "outputs": [
    {
     "ename": "NameError",
     "evalue": "name 'sub1' is not defined",
     "output_type": "error",
     "traceback": [
      "\u001B[1;31m---------------------------------------------------------------------------\u001B[0m",
      "\u001B[1;31mNameError\u001B[0m                                 Traceback (most recent call last)",
      "Cell \u001B[1;32mIn[1], line 2\u001B[0m\n\u001B[0;32m      1\u001B[0m \u001B[38;5;66;03m# testing to_json\u001B[39;00m\n\u001B[1;32m----> 2\u001B[0m a \u001B[38;5;241m=\u001B[39m \u001B[43msub1\u001B[49m\u001B[38;5;241m.\u001B[39mto_json()\n",
      "\u001B[1;31mNameError\u001B[0m: name 'sub1' is not defined"
     ]
    }
   ],
   "source": [
    "# testing to_json\n",
    "a = sub1.to_json()\n"
   ],
   "metadata": {
    "collapsed": false,
    "ExecuteTime": {
     "end_time": "2023-11-06T20:19:50.703166300Z",
     "start_time": "2023-11-06T20:19:50.312592400Z"
    }
   }
  },
  {
   "cell_type": "markdown",
   "source": [],
   "metadata": {
    "collapsed": false
   }
  },
  {
   "cell_type": "code",
   "execution_count": null,
   "outputs": [],
   "source": [],
   "metadata": {
    "collapsed": false
   }
  }
 ],
 "metadata": {
  "kernelspec": {
   "display_name": "Python 3",
   "language": "python",
   "name": "python3"
  },
  "language_info": {
   "codemirror_mode": {
    "name": "ipython",
    "version": 2
   },
   "file_extension": ".py",
   "mimetype": "text/x-python",
   "name": "python",
   "nbconvert_exporter": "python",
   "pygments_lexer": "ipython2",
   "version": "2.7.6"
  }
 },
 "nbformat": 4,
 "nbformat_minor": 0
}
