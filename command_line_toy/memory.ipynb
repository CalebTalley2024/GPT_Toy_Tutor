{
 "cells": [
  {
   "cell_type": "code",
   "execution_count": 1,
   "metadata": {
    "collapsed": false,
    "ExecuteTime": {
     "end_time": "2024-05-04T22:07:46.242386200Z",
     "start_time": "2024-05-04T22:07:40.867330600Z"
    }
   },
   "outputs": [
    {
     "name": "stdout",
     "output_type": "stream",
     "text": [
      "Pinged your deployment. You successfully connected to MongoDB!\n"
     ]
    }
   ],
   "source": [
    "from sklearn.metrics.pairwise import cosine_similarity as cos\n",
    "from sentence_transformers import SentenceTransformer as ST\n",
    "import numpy as np\n",
    "from database_connect import client # gets MongoDB client, which gives access to data\n",
    "# from learning import print_line"
   ]
  },
  {
   "cell_type": "code",
   "execution_count": 2,
   "metadata": {
    "collapsed": false,
    "ExecuteTime": {
     "end_time": "2024-05-04T22:07:46.783424400Z",
     "start_time": "2024-05-04T22:07:46.756163500Z"
    }
   },
   "outputs": [],
   "source": [
    "# collection: data called from MongoDB\n",
    "# json: data in json\n",
    "def print_line(len = 150):\n",
    "    if len == 0:\n",
    "        print(\"\\n\")\n",
    "    else:\n",
    "        print(\"-\" * len)\n",
    "    "
   ]
  },
  {
   "cell_type": "code",
   "execution_count": 6,
   "outputs": [],
   "source": [
    "class MemPrompt:\n",
    "    def __init__(self):\n",
    "        # different memprompt databases\n",
    "        self.questions = Memory_Collection(\"Q\")\n",
    "        self.answers = Memory_Collection(\"A\")\n",
    "        self.evaluations = Memory_Collection(\"E\")\n",
    "        \n",
    "class Memory_Collection:\n",
    "    # creates collection object\n",
    "    # properties:  collection, type, json\n",
    "    def __init__(self, mem_type):\n",
    "        \"\"\"\n",
    "        mem types: char\n",
    "        'A': answer\n",
    "        'Q': question\n",
    "        'E': evaluation\n",
    "        \"\"\"\n",
    "        if mem_type == 'Q': # query = question\n",
    "            self.collection = client[\"MemPrompt\"][\"Questions\"]\n",
    "            self.type = \"Questions\"\n",
    "        elif mem_type == 'A': # query = question\n",
    "            self.collection = client[\"MemPrompt\"][\"Answers\"]\n",
    "            self.type = \"Answers\"\n",
    "        elif mem_type == 'E': # query = (GPT answer + student answer) pair\n",
    "            self.collection = client[\"MemPrompt\"][\"Evaluations\"]\n",
    "            self.type = \"Evaluations\"\n",
    "        else:\n",
    "            ValueError(\"Invalid mem_type: should be 'A', 'Q', or 'E'\")\n",
    "        \n",
    "        self.json = list(self.collection.find()) # interpretable json of the data\n",
    "\n",
    "    # the query is one of the following .....\n",
    "        # question\n",
    "        # (GPT answer + student answer) pair\n",
    "    def get_memory_row(self, query):\n",
    "        # returns memory that fits the question\n",
    "        memory = list(self.collection.find({\"Query\": query}))\n",
    "        if not memory:\n",
    "            raise ValueError(f\"No memory for query: {query}\")\n",
    "        # print(memory[0])\n",
    "        return memory[0]\n",
    "\n",
    "    # update feedback for single memory\n",
    "    # add memory if it is not already in the database    \n",
    "    # updates/adds memory row to collection on MongoDB\n",
    "    def update_memory_feedback(self, query, feedback):\n",
    "        if self.collection.count_documents({\"query\": query}) > 0:\n",
    "            # get existing row\n",
    "            memory = self.get_memory_row(query)\n",
    "            # delete the old row\n",
    "            self.collection.delete_one({\"Query\":query})\n",
    "            # make new memory row\n",
    "            feedback_list = memory[\"Feedback\"] # feedback list ---> string\n",
    "            feedback_list.append(feedback)\n",
    "\n",
    "            new_memory = {\n",
    "                \"Query\": memory[\"Query\"],\n",
    "                \"Feedback\": feedback_list\n",
    "            }\n",
    "            self.collection.insert_one(new_memory) # update datebase on MongoDB\n",
    "            print(\"the query and the feedback has been updated to memory\")\n",
    "        else:\n",
    "            new_memory = {\n",
    "                \"Query\": query,\n",
    "                \"Feedback\": [feedback],\n",
    "            }\n",
    "            self.collection.insert_one(new_memory) #update database on MongoDB\n",
    "            \n",
    "            # reinitialilze the object collection (allows MongoDB to update the 'self' object\n",
    "            # update the correct database\n",
    "            \n",
    "            if self.type == \"Questions\": # query = question\n",
    "                self.collection = client[\"MemPrompt\"][\"Questions\"]\n",
    "            elif self.type == \"Answers\": # query = question\n",
    "                self.collection = client[\"MemPrompt\"][\"Answers\"]\n",
    "            elif self.type == \"Evaluations\": # query = (GPT answer + student answer) pair\n",
    "                self.collection = client[\"MemPrompt\"][\"Evaluations\"]\n",
    "\n",
    "            print(\"the query and the feedback has been added to memory\")\n",
    "\n",
    "            # update the json (json is inside the list)\n",
    "            self.json = list(self.collection.find())\n",
    "\n",
    "        return 0\n",
    "\n",
    "    # get the queries for the memory collection\n",
    "    def get_queries(self):\n",
    "        return [query[\"Query\"] for query in self.json]\n",
    "    \n",
    "        # get single memory by index\n",
    "    def get_row_at_index(self,i):\n",
    "        return list(self.collection.find().skip(i).limit(1))[0]\n",
    "\n",
    "    # Generate sentence embeddings for all the keys in the JSON file.\n",
    "    # does cosine similarity for Questions ONLY\n",
    "    # returns most similar memory and  feedback\n",
    "    # if the question is already in the database, it will still be returned with this function ( similarity will equal 1)\n",
    "    def find_most_similar_memory(self, query):\n",
    "        # get Memory in both collection and JSON format\n",
    "        model = ST('all-MiniLM-L6-v2')\n",
    "        # Preprocess the query to all lowercase.\n",
    "        query = query.lower()\n",
    "        # embed the query\n",
    "        query_embed = model.encode(query)\n",
    "        # print(query)\n",
    "        # Get all of the queries that are in the database\n",
    "        queries = self.get_queries()\n",
    "        if queries == []: # if there are no queries\n",
    "            return \" \", [] # return empty string for query and empty array for response\n",
    "        \n",
    "        # embed the memory's questions into vector representation\n",
    "        memory_embeds = model.encode(queries)\n",
    "        # calculate the cosine similarity of each embed from memory compared to the query embed\n",
    "        cos_sim = cos([query_embed], memory_embeds)\n",
    "        # get the index of the question with the highest similarity score\n",
    "        most_similar_query_index = int(np.argmax(cos_sim))\n",
    "        most_similar_row = self.get_row_at_index(most_similar_query_index)\n",
    "        if most_similar_row:\n",
    "            most_similar_query, most_similar_feedback = most_similar_row[\"Query\"], most_similar_row[\"Feedback\"]\n",
    "        else:\n",
    "            print(\"There is no feedback\")\n",
    "            return \"\", \"\"\n",
    "    \n",
    "        return most_similar_query, most_similar_feedback\n",
    "    \n",
    "    # will update the memory if the user spots a mistake that GPT has made in the answer and/or the explanation of the answer\n",
    "\n",
    "    # info_1 and info_2 are different for different memory types\n",
    "    # if question: \n",
    "    #     - info_1 = grade|education|topic_name|subtopic_name\n",
    "    #     - info_2 = None\n",
    "    #     - info_3 = None\n",
    "    #     - info_4 = None\n",
    "    # if Answers:\n",
    "    #     - info_1 = Answer\n",
    "    #     - info_2 = Explanation\n",
    "    #     - info_3 = None\n",
    "    #     - info_4 = None\n",
    "    # if Evaluation:\n",
    "    #     - info_1 = GPT Answer\n",
    "    #     - info_2 = Student Answer\n",
    "    #     - info_3 = Evaluation result\n",
    "    \n",
    "    # returns whether or not feedback was needed\n",
    "    def give_feedback(self, question, info_1, info_2 = None, info_3 = None): # TODO Test\n",
    "        print_line()\n",
    "        print(\"Giving Feedback \\n\")\n",
    "        if self.type == \"Questions\": # query = question\n",
    "            print(f\"Subtopic Info: Grade {info_1}\")\n",
    "            print(f\"Proposed Question: {question}\\n\")\n",
    "        elif self.type == \"Answers\": # query = question\n",
    "            # print(f\"Question: {question}\\n\")\n",
    "            # print(f\"Proposed Answer: \\n{info_1}\\n\")\n",
    "            print(f\"Proposed Answer + Explanation: \\n{info_2}\\n\")\n",
    "        elif self.type == \"Evaluations\": # query = (GPT answer + student answer) pair\n",
    "            # print(f\"Question: {question}\\n\")\n",
    "            print(f\"Answer: {info_1}\\n\")\n",
    "            print(f\"Answer Response: {info_2}\\n\")\n",
    "            # print(f\"Time: {info_3} seconds \\n\")\n",
    "            print(f\"Proposed Evaluation: \\n{info_3}\\n\")\n",
    "        print_line()\n",
    "        # first display the answer to the user\n",
    "        need_feedback = input(f\"{self.type[:-1]}: above require any feedback: 'Y' for yes, 'N' for no: \") # self.type[:-1]: plural -> singular\n",
    "        if need_feedback.lower() == 'y':\n",
    "            feedback = input(\"What needs to be improved in the analysis process?: \")\n",
    "            if self.type == \"Questions\": # query = subtopic info\n",
    "                self.update_memory_feedback(info_1, feedback)\n",
    "            elif self.type == \"Answers\":\n",
    "                self.update_memory_feedback(question, feedback)\n",
    "            elif self.type == \"Evaluations\":\n",
    "                self.update_memory_feedback(info_2, feedback) # query = GPT's Answer Response\n",
    "            return True\n",
    "        else:\n",
    "            print(\"memory will not be updated\")\n",
    "            return False\n",
    "\n"
   ],
   "metadata": {
    "collapsed": false,
    "ExecuteTime": {
     "end_time": "2024-05-04T22:09:07.930203600Z",
     "start_time": "2024-05-04T22:09:07.909241300Z"
    }
   }
  },
  {
   "cell_type": "code",
   "execution_count": 5,
   "metadata": {
    "collapsed": false,
    "ExecuteTime": {
     "end_time": "2024-05-04T22:07:54.832000300Z",
     "start_time": "2024-05-04T22:07:54.533341200Z"
    }
   },
   "outputs": [
    {
     "data": {
      "text/plain": "[{'_id': ObjectId('6634708c12a795122042602d'),\n  'Query': 'The student correctly identified that to find the value of f(4), they needed to multiply the value of f(3) by 2 since each step to the right in the exponential function increases the output by a factor of 2. This is a significant improvement from their previous mistakes. The student correctly calculated f(4) as 16, which is the correct answer. Therefore, the student got the question correct based on the explanation provided.',\n  'Feedback': ['60 seconds is way too long to solve a problem like this. Give him more of a \"Time Taken\" penalty for this']}]"
     },
     "execution_count": 5,
     "metadata": {},
     "output_type": "execute_result"
    }
   ],
   "source": [
    "mem = MemPrompt()\n",
    "a = mem.evaluations\n",
    "# a.find_most_similar_memory(\"level 3 ( difficulty: moderate) \\n What ioyrioh91y7y348y189dh1\")\n",
    "\n",
    "# a.update_memory_feedback(\"What is 1 + 1\", \" do not append the numbers\")\n",
    "# a.get_queries()\n",
    "a.json"
   ]
  },
  {
   "cell_type": "code",
   "execution_count": 5,
   "metadata": {
    "collapsed": false,
    "ExecuteTime": {
     "end_time": "2024-04-29T19:20:52.959516500Z",
     "start_time": "2024-04-29T19:20:52.939514500Z"
    }
   },
   "outputs": [],
   "source": [
    "# a.get_memory_row(\"What is 1 + 1\")[\"Query\"]"
   ]
  },
  {
   "cell_type": "code",
   "execution_count": 6,
   "outputs": [],
   "source": [
    "# a.type[:-1]\n",
    "q1 = \"What is 1 + 1\""
   ],
   "metadata": {
    "collapsed": false,
    "ExecuteTime": {
     "end_time": "2024-04-29T19:20:53.238719900Z",
     "start_time": "2024-04-29T19:20:53.221719900Z"
    }
   }
  },
  {
   "cell_type": "code",
   "execution_count": 9,
   "outputs": [],
   "source": [
    "# print(a.get_feedback_w_query(q1))\n"
   ],
   "metadata": {
    "collapsed": false,
    "ExecuteTime": {
     "end_time": "2024-04-29T19:21:17.369073600Z",
     "start_time": "2024-04-29T19:21:17.350723200Z"
    }
   }
  },
  {
   "cell_type": "code",
   "execution_count": 8,
   "outputs": [],
   "source": [
    "# a.find_most_similar_memory(q1)"
   ],
   "metadata": {
    "collapsed": false,
    "ExecuteTime": {
     "end_time": "2024-04-29T19:21:15.533448100Z",
     "start_time": "2024-04-29T19:21:15.509810700Z"
    }
   }
  },
  {
   "cell_type": "code",
   "execution_count": null,
   "outputs": [],
   "source": [],
   "metadata": {
    "collapsed": false
   }
  }
 ],
 "metadata": {
  "kernelspec": {
   "display_name": "Python 3 (ipykernel)",
   "language": "python",
   "name": "python3"
  },
  "language_info": {
   "codemirror_mode": {
    "name": "ipython",
    "version": 3
   },
   "file_extension": ".py",
   "mimetype": "text/x-python",
   "name": "python",
   "nbconvert_exporter": "python",
   "pygments_lexer": "ipython3",
   "version": "3.8.10"
  }
 },
 "nbformat": 4,
 "nbformat_minor": 4
}
