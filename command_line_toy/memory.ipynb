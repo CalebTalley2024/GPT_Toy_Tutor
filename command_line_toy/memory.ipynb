{
 "cells": [
  {
   "cell_type": "code",
   "execution_count": 2,
   "outputs": [
    {
     "name": "stdout",
     "output_type": "stream",
     "text": [
      "Pinged your deployment. You successfully connected to MongoDB!\n"
     ]
    }
   ],
   "source": [
    "from sklearn.metrics.pairwise import cosine_similarity as cos\n",
    "from sentence_transformers import SentenceTransformer as ST\n",
    "import numpy as np\n",
    "import re\n",
    "\n",
    "from database_connect import client # gets MongoDB client, which gives access to data\n",
    "# collection: data called from MongoDB\n",
    "# json: data in json\n",
    "class Memories:\n",
    "    def __init__(self):\n",
    "        self.collection = client[\"Memory\"][\"Memory0\"]\n",
    "        self.json = list(client[\"Memory\"][\"Memory0\"].find())\n",
    "\n",
    "    def get_memory(self, question):\n",
    "        # returns memory that fits the question\n",
    "        return list(self.collection.find({\"Question\": question}))[0]\n",
    "\n",
    "    def get_questions(self):\n",
    "        return [question[\"Question\"] for question in self.json]\n",
    "\n",
    "    # single memorys\n",
    "    def get_feedback_at_index(self,i):\n",
    "        return list(self.collection.find().skip(i).limit(1))[0]\n",
    "\n",
    "    # update feedback for single memory\n",
    "    # add memory if it is not already in the database\n",
    "    def update_memory_feedback(self,question , feedback):\n",
    "        if self.collection.count_documents({\"Question\": question}) > 0:\n",
    "            memory = self.get_single_memory(question)\n",
    "            memory[\"Feedback\"].append(feedback)\n",
    "        else:\n",
    "            new_memory = {\n",
    "                \"Question\": question,\n",
    "                \"Feedback\": [feedback],\n",
    "            }\n",
    "            self.collection.insert_one(new_memory)\n",
    "            print(\"the question and the feedback has been added to memory\")\n"
   ],
   "metadata": {
    "collapsed": false,
    "ExecuteTime": {
     "end_time": "2024-02-21T17:58:25.067336600Z",
     "start_time": "2024-02-21T17:58:17.102087900Z"
    }
   }
  },
  {
   "cell_type": "code",
   "execution_count": 3,
   "outputs": [],
   "source": [
    "# Generate sentence embeddings for all the keys in the JSON file.\n",
    "# does cosine similarity for Questions ONLY\n",
    "# returns most similar memory and  feedback\n",
    "# if the question is already in the database, it will still be returned with this function ( similarity will equal 1)\n",
    "def find_most_similar_memory(query):\n",
    "    # get Memory in both collection and JSON format\n",
    "    memories0 = Memories()\n",
    "    model = ST('all-MiniLM-L6-v2')\n",
    "\n",
    "    # Load the JSON file.\n",
    "    # memory_json = memories0.json\n",
    "\n",
    "    # Preprocess the query to all lowercase.\n",
    "    query = query.lower()\n",
    "\n",
    "    # embed the query\n",
    "    query_embed = model.encode(query)\n",
    "\n",
    "    print(query)\n",
    "\n",
    "    # Get all of the questions that are in the database\n",
    "    questions = memories0.get_questions()\n",
    "\n",
    "    # embed the memory's questions into vector representation\n",
    "    memory_embeds = model.encode(questions)\n",
    "\n",
    "    # calculate the cosine similarity of each embed from memory compared to the query embed\n",
    "    cos_sim = cos([query_embed], memory_embeds)\n",
    "\n",
    "    # get the index of the question with the highest similarity score\n",
    "    most_similar_question_index = int(np.argmax(cos_sim))\n",
    "\n",
    "    most_similar_question = memories0.get_feedback_at_index(most_similar_question_index)[\"Question\"]\n",
    "    most_similar_feedback = memories0.get_feedback_at_index(most_similar_question_index)[\"Feedback\"]\n",
    "\n",
    "    return most_similar_question, most_similar_feedback"
   ],
   "metadata": {
    "collapsed": false,
    "ExecuteTime": {
     "end_time": "2024-02-21T17:58:25.139289900Z",
     "start_time": "2024-02-21T17:58:25.070336800Z"
    }
   }
  },
  {
   "cell_type": "code",
   "execution_count": 4,
   "outputs": [
    {
     "name": "stdout",
     "output_type": "stream",
     "text": [
      "what is 1 + 1\n"
     ]
    },
    {
     "data": {
      "text/plain": "('Whats 9 + 10', ['add the numbers, do NOT append'])"
     },
     "execution_count": 4,
     "metadata": {},
     "output_type": "execute_result"
    }
   ],
   "source": [
    "find_most_similar_memory(\"What is 1 + 1\")"
   ],
   "metadata": {
    "collapsed": false,
    "ExecuteTime": {
     "end_time": "2024-02-21T17:58:28.322078900Z",
     "start_time": "2024-02-21T17:58:25.080094100Z"
    }
   }
  },
  {
   "cell_type": "code",
   "execution_count": 5,
   "outputs": [
    {
     "data": {
      "text/plain": "array([[0.3325963 , 0.42780197, 0.6307756 , 0.23499155, 0.21322174]],\n      dtype=float32)"
     },
     "execution_count": 5,
     "metadata": {},
     "output_type": "execute_result"
    }
   ],
   "source": [
    "model = ST('all-MiniLM-L6-v2')\n",
    "\n",
    "q1 = \"Counting forward and backward\"\n",
    "q2 = \"Counting objects\"\n",
    "q3 = \"Skip counting by 2s and 5s\"\n",
    "q4 = \"Adding and subtracting fractions\"\n",
    "q5 = \"Solving problems with comparing and ordering fractions\"\n",
    "\n",
    "qs = [q1,q2,q3,q4,q5]\n",
    "\n",
    "ques = \"count to 10 by 2s\"\n",
    "\n",
    "query_embed = model.encode(ques)\n",
    "\n",
    "memory_embeds = model.encode(qs)\n",
    "\n",
    "cos_sim = cos([query_embed], memory_embeds)\n",
    "cos_sim\n"
   ],
   "metadata": {
    "collapsed": false,
    "ExecuteTime": {
     "end_time": "2024-02-21T17:58:30.310367600Z",
     "start_time": "2024-02-21T17:58:29.599111Z"
    }
   }
  },
  {
   "cell_type": "code",
   "execution_count": 6,
   "outputs": [],
   "source": [
    "Mem = Memories()"
   ],
   "metadata": {
    "collapsed": false,
    "ExecuteTime": {
     "end_time": "2024-02-21T17:58:31.737293300Z",
     "start_time": "2024-02-21T17:58:31.541981600Z"
    }
   }
  },
  {
   "cell_type": "code",
   "execution_count": 7,
   "outputs": [
    {
     "data": {
      "text/plain": "[{'_id': ObjectId('653d2f7af5491e13934fee5e'),\n  'Question': 'Solve for x: 3x + 5 = 20',\n  'Feedback': []},\n {'_id': ObjectId('653d2fd0f5491e1393502e79'),\n  'Question': 'Level 3 (Difficulty: Moderate):\\n\\nFind the area of a rectangle with a length of 8 units and a width of 5 units. \\n\\nExplain how you got your answer.',\n  'Feedback': ['too long']},\n {'_id': ObjectId('653d77cff5491e1393898391'),\n  'Question': 'Calculate the area of a rectangle with length 5 and width 8.',\n  'Feedback': []},\n {'_id': ObjectId('653d7835f5491e139389d136'),\n  'Question': 'level 2 (difficulty: easy-moderate):\\n\\nadd the following two-digit numbers:\\n\\n1. 23 + 17\\n\\nexplain how you got your answer.',\n  'Feedback': ['']},\n {'_id': ObjectId('653d7840f5491e139389d8f4'),\n  'Question': 'Level 5 (Difficulty: Hard):\\nSarah has 25 jars of candy. Each jar contains 35 pieces of candy. How many pieces of candy does Sarah have in total? Explain how you got your answer.',\n  'Feedback': ['give more explanation']},\n {'_id': ObjectId('653d784bf5491e139389e0d5'),\n  'Question': 'Level 1 (Difficulty: Easy):\\nAdd the following two numbers: 12 + 7. Explain how you got your answer.',\n  'Feedback': ['answer is correct, but your thought process takes too long']},\n {'_id': ObjectId('653d7858f5491e139389eaee'),\n  'Question': 'Level 3 (Difficulty: Moderate):\\n\\nFind the area of a rectangle with a length of 8 units and a width of 5 units. \\n\\nExplain how you got your answer.',\n  'Feedback': ['too long']},\n {'_id': ObjectId('653d7869f5491e139389f6cb'),\n  'Question': 'Level 3 (Difficulty: Moderate):\\n\\nRound the following decimal number to the nearest whole number:\\n\\n0.87\\n\\nExplain how you got your answer.',\n  'Feedback': ['too long of an explanation']},\n {'_id': ObjectId('653d8dfd6beab823b7ca1bb1'),\n  'Question': 'Whats 9 + 10',\n  'Feedback': ['add the numbers, do NOT append']},\n {'_id': ObjectId('653d8ead6beab823b7ca1bb2'),\n  'Question': 'Whats 9 + 23',\n  'Feedback': ['add the numbers, do NOT append']}]"
     },
     "execution_count": 7,
     "metadata": {},
     "output_type": "execute_result"
    }
   ],
   "source": [
    "Mem.json\n"
   ],
   "metadata": {
    "collapsed": false,
    "ExecuteTime": {
     "end_time": "2024-02-21T17:58:32.907079700Z",
     "start_time": "2024-02-21T17:58:32.797937700Z"
    }
   }
  },
  {
   "cell_type": "code",
   "execution_count": 9,
   "outputs": [
    {
     "name": "stdout",
     "output_type": "stream",
     "text": [
      "[1 'world' 'this is a longer string']\n"
     ]
    }
   ],
   "source": [
    "my_strings = np.array([1, \"world\", \"this is a longer string\"], dtype=object)\n",
    "print(my_strings) "
   ],
   "metadata": {
    "collapsed": false,
    "ExecuteTime": {
     "end_time": "2024-02-21T17:59:10.830162400Z",
     "start_time": "2024-02-21T17:59:10.793549100Z"
    }
   }
  },
  {
   "cell_type": "code",
   "execution_count": 10,
   "outputs": [
    {
     "data": {
      "text/plain": "array([1, 'world', 'this is a longer string'], dtype=object)"
     },
     "execution_count": 10,
     "metadata": {},
     "output_type": "execute_result"
    }
   ],
   "source": [
    "my_strings"
   ],
   "metadata": {
    "collapsed": false,
    "ExecuteTime": {
     "end_time": "2024-02-21T17:59:17.352978100Z",
     "start_time": "2024-02-21T17:59:17.300107Z"
    }
   }
  },
  {
   "cell_type": "code",
   "execution_count": 13,
   "outputs": [],
   "source": [
    "a = np.empty(shape=(3,0))"
   ],
   "metadata": {
    "collapsed": false,
    "ExecuteTime": {
     "end_time": "2024-02-21T18:05:37.879194500Z",
     "start_time": "2024-02-21T18:05:37.859317Z"
    }
   }
  },
  {
   "cell_type": "code",
   "execution_count": 16,
   "outputs": [
    {
     "ename": "ValueError",
     "evalue": "all the input arrays must have same number of dimensions, but the array at index 0 has 1 dimension(s) and the array at index 1 has 3 dimension(s)",
     "output_type": "error",
     "traceback": [
      "\u001B[1;31m---------------------------------------------------------------------------\u001B[0m",
      "\u001B[1;31mValueError\u001B[0m                                Traceback (most recent call last)",
      "Cell \u001B[1;32mIn[16], line 1\u001B[0m\n\u001B[1;32m----> 1\u001B[0m \u001B[43mnp\u001B[49m\u001B[38;5;241;43m.\u001B[39;49m\u001B[43mappend\u001B[49m\u001B[43m(\u001B[49m\u001B[43mmy_strings\u001B[49m\u001B[43m,\u001B[49m\u001B[43m[\u001B[49m\u001B[43ma\u001B[49m\u001B[43m]\u001B[49m\u001B[43m,\u001B[49m\u001B[43maxis\u001B[49m\u001B[38;5;241;43m=\u001B[39;49m\u001B[38;5;241;43m0\u001B[39;49m\u001B[43m)\u001B[49m\n",
      "File \u001B[1;32m<__array_function__ internals>:200\u001B[0m, in \u001B[0;36mappend\u001B[1;34m(*args, **kwargs)\u001B[0m\n",
      "File \u001B[1;32mc:\\python38\\lib\\site-packages\\numpy\\lib\\function_base.py:5499\u001B[0m, in \u001B[0;36mappend\u001B[1;34m(arr, values, axis)\u001B[0m\n\u001B[0;32m   5497\u001B[0m     values \u001B[38;5;241m=\u001B[39m ravel(values)\n\u001B[0;32m   5498\u001B[0m     axis \u001B[38;5;241m=\u001B[39m arr\u001B[38;5;241m.\u001B[39mndim\u001B[38;5;241m-\u001B[39m\u001B[38;5;241m1\u001B[39m\n\u001B[1;32m-> 5499\u001B[0m \u001B[38;5;28;01mreturn\u001B[39;00m \u001B[43mconcatenate\u001B[49m\u001B[43m(\u001B[49m\u001B[43m(\u001B[49m\u001B[43marr\u001B[49m\u001B[43m,\u001B[49m\u001B[43m \u001B[49m\u001B[43mvalues\u001B[49m\u001B[43m)\u001B[49m\u001B[43m,\u001B[49m\u001B[43m \u001B[49m\u001B[43maxis\u001B[49m\u001B[38;5;241;43m=\u001B[39;49m\u001B[43maxis\u001B[49m\u001B[43m)\u001B[49m\n",
      "File \u001B[1;32m<__array_function__ internals>:200\u001B[0m, in \u001B[0;36mconcatenate\u001B[1;34m(*args, **kwargs)\u001B[0m\n",
      "\u001B[1;31mValueError\u001B[0m: all the input arrays must have same number of dimensions, but the array at index 0 has 1 dimension(s) and the array at index 1 has 3 dimension(s)"
     ]
    }
   ],
   "source": [
    "np.append(my_strings,[a],axis=0)"
   ],
   "metadata": {
    "collapsed": false,
    "ExecuteTime": {
     "end_time": "2024-02-21T18:06:40.433877400Z",
     "start_time": "2024-02-21T18:06:40.152108Z"
    }
   }
  },
  {
   "cell_type": "code",
   "execution_count": 21,
   "outputs": [],
   "source": [
    "arr = np.array([[1, 2, 3]])\n",
    "# New row to add\n",
    "new_row = [4, 5, \"str\"]"
   ],
   "metadata": {
    "collapsed": false,
    "ExecuteTime": {
     "end_time": "2024-02-21T18:07:51.345175300Z",
     "start_time": "2024-02-21T18:07:51.312910800Z"
    }
   }
  },
  {
   "cell_type": "code",
   "execution_count": 22,
   "outputs": [
    {
     "name": "stdout",
     "output_type": "stream",
     "text": [
      "[['1' '2' '3']\n",
      " ['4' '5' 'str']]\n"
     ]
    }
   ],
   "source": [
    "\n",
    "# Stack the new row vertically to the array using np.vstack()\n",
    "new_arr1 = np.vstack([arr, new_row])\n",
    "print(new_arr1)"
   ],
   "metadata": {
    "collapsed": false,
    "ExecuteTime": {
     "end_time": "2024-02-21T18:07:51.998982900Z",
     "start_time": "2024-02-21T18:07:51.964149700Z"
    }
   }
  },
  {
   "cell_type": "code",
   "execution_count": 20,
   "outputs": [
    {
     "name": "stdout",
     "output_type": "stream",
     "text": [
      "[[1 2 3]\n",
      " [4 5 6]]\n"
     ]
    }
   ],
   "source": [
    "# Append the new row to the bottom of the array using np.append()\n",
    "new_arr2 = np.append(arr, [new_row], axis=0)\n",
    "print(new_arr2)"
   ],
   "metadata": {
    "collapsed": false,
    "ExecuteTime": {
     "end_time": "2024-02-21T18:07:28.488689700Z",
     "start_time": "2024-02-21T18:07:28.380069Z"
    }
   }
  },
  {
   "cell_type": "code",
   "execution_count": 34,
   "outputs": [
    {
     "data": {
      "text/plain": "array([['1', '2'],\n       ['4', '5']], dtype='<U11')"
     },
     "execution_count": 34,
     "metadata": {},
     "output_type": "execute_result"
    }
   ],
   "source": [
    "new_arr1[:,0:2]"
   ],
   "metadata": {
    "collapsed": false,
    "ExecuteTime": {
     "end_time": "2024-02-21T18:12:31.171472800Z",
     "start_time": "2024-02-21T18:12:31.137176700Z"
    }
   }
  },
  {
   "cell_type": "code",
   "execution_count": 41,
   "outputs": [
    {
     "name": "stdout",
     "output_type": "stream",
     "text": [
      "[['4' '5' 'str']\n",
      " ['4' '5' 'str']]\n"
     ]
    }
   ],
   "source": [
    "arr = np.empty((0,3))\n",
    "new_arr2 = np.append(arr, [new_row], axis=0)\n",
    "new_arr2 = np.append(new_arr2, [new_row], axis=0)\n",
    "\n",
    "print(new_arr2)"
   ],
   "metadata": {
    "collapsed": false,
    "ExecuteTime": {
     "end_time": "2024-02-21T18:15:35.056462Z",
     "start_time": "2024-02-21T18:15:35.022309900Z"
    }
   }
  },
  {
   "cell_type": "code",
   "execution_count": null,
   "outputs": [],
   "source": [],
   "metadata": {
    "collapsed": false
   }
  }
 ],
 "metadata": {
  "kernelspec": {
   "display_name": "Python 3",
   "language": "python",
   "name": "python3"
  },
  "language_info": {
   "codemirror_mode": {
    "name": "ipython",
    "version": 2
   },
   "file_extension": ".py",
   "mimetype": "text/x-python",
   "name": "python",
   "nbconvert_exporter": "python",
   "pygments_lexer": "ipython2",
   "version": "2.7.6"
  }
 },
 "nbformat": 4,
 "nbformat_minor": 0
}
