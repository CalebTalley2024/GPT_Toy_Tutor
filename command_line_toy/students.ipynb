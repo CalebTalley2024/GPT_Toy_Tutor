{
 "cells": [
  {
   "cell_type": "code",
   "execution_count": 1,
   "metadata": {
    "collapsed": true,
    "jupyter": {
     "outputs_hidden": true
    },
    "ExecuteTime": {
     "end_time": "2024-03-15T18:37:49.775872700Z",
     "start_time": "2024-03-15T18:37:48.273905800Z"
    }
   },
   "outputs": [
    {
     "name": "stdout",
     "output_type": "stream",
     "text": [
      "Pinged your deployment. You successfully connected to MongoDB!\n"
     ]
    }
   ],
   "source": [
    "import json\n",
    "import numpy as np\n",
    "from database_connect import client # gets MongoDB client, which gives access to data"
   ]
  },
  {
   "cell_type": "code",
   "execution_count": 2,
   "metadata": {
    "collapsed": false,
    "ExecuteTime": {
     "end_time": "2024-03-15T18:37:49.791064500Z",
     "start_time": "2024-03-15T18:37:49.768466400Z"
    }
   },
   "outputs": [],
   "source": [
    "# constants\n",
    "# default collection used\n",
    "main_collection = \"Section0\""
   ]
  },
  {
   "cell_type": "code",
   "execution_count": 3,
   "metadata": {
    "collapsed": false,
    "ExecuteTime": {
     "end_time": "2024-03-15T18:37:49.841815900Z",
     "start_time": "2024-03-15T18:37:49.783164700Z"
    }
   },
   "outputs": [],
   "source": [
    "# examples for visualizing jsons\n",
    "# format of 'all_updates':"
   ]
  },
  {
   "cell_type": "code",
   "execution_count": 4,
   "metadata": {
    "collapsed": false,
    "ExecuteTime": {
     "end_time": "2024-03-15T18:37:49.853866300Z",
     "start_time": "2024-03-15T18:37:49.804068Z"
    }
   },
   "outputs": [],
   "source": [
    "# recursively create JSON\n",
    "def obj_to_dict(obj):\n",
    "    # recursive calls run depending on if the call's obj is a list, dictionary, object, or primitive ( int, string, float, etc)\n",
    "    if isinstance(obj, list): # if list\n",
    "        return [obj_to_dict(e) for e in obj]\n",
    "    elif isinstance(obj, dict): # if dictionary or object\n",
    "        return {str(key): obj_to_dict(value) for key, value in obj.items()}\n",
    "    elif hasattr(obj, '__dict__'): # if object\n",
    "        return {str(key): obj_to_dict(value) for key, value in obj.__dict__.items()}\n",
    "    else: # if primitive\n",
    "        return obj\n",
    "\n",
    "# converts dictionary into student object\n",
    "def dict_to_student(dict_data):\n",
    "    # print(dict_data)\n",
    "\n",
    "    # Initialize student Object\n",
    "    student = Student(dict_data['name'], dict_data['grade'])\n",
    "\n",
    "    # Initialize and fill subtopics\n",
    "    for subtopic_data in dict_data['subtopics']:\n",
    "        subtopic = Subtopic(subtopic_data['name'], subtopic_data['level'])\n",
    "        subtopic.num_questions_answered = subtopic_data['num_questions_answered']\n",
    "\n",
    "        metrics_data = subtopic_data['metrics']\n",
    "        metrics = Metrics()\n",
    "\n",
    "        for metric_name, metric_data in metrics_data.items():\n",
    "            metric = Metric()\n",
    "            metric.avg_score = metric_data['avg_score']\n",
    "            metric.previous_scores = metric_data['previous_scores']\n",
    "\n",
    "            if 'avg_time' in metric_data:\n",
    "                metric.avg_time = metric_data['avg_time']\n",
    "            if 'recent_times' in metric_data:\n",
    "                metric.recent_times = metric_data['recent_times']\n",
    "            if 'related_mistakes' in metric_data:\n",
    "                metric.related_mistakes = metric_data['related_mistakes']\n",
    "\n",
    "            setattr(metrics, metric_name, metric)\n",
    "\n",
    "        subtopic.metrics = metrics\n",
    "        student.subtopics.append(subtopic)\n",
    "\n",
    "    return student\n"
   ]
  },
  {
   "cell_type": "code",
   "execution_count": 5,
   "metadata": {
    "collapsed": false,
    "ExecuteTime": {
     "end_time": "2024-03-15T18:37:49.891229400Z",
     "start_time": "2024-03-15T18:37:49.822213200Z"
    }
   },
   "outputs": [],
   "source": [
    "class StudentsCollection:\n",
    "    def __init__(self, collection = \"Section0\"):\n",
    "        database = client[\"Students\"]\n",
    "        self.name = collection\n",
    "        self.collection = database[collection] # a collection ( ex: Section0)\n",
    "    def add_student(self,student):\n",
    "        # make student into dictionary format\n",
    "        student_dict = student.in_dict_format()\n",
    "        self.collection.insert_one(student_dict)\n",
    "        print(f\"{student.name} has been added to collection: {self.name}\")\n",
    "    # takes in student's name\n",
    "    # returns wanted student from database or None (student is not in database)\n",
    "    def get_student(self, student_name):\n",
    "        query = {\"name\": student_name}\n",
    "        # Fetch the student data as a list\n",
    "        student_dict_list = list(self.collection.find(query))\n",
    "        try:\n",
    "            if not student_dict_list:  # Checks if the list is empty\n",
    "                raise ValueError(\"No student found with the given name.\")\n",
    "            # Get the first student_dict from the list (assuming there should only be one)\n",
    "            student_dict = student_dict_list[0]\n",
    "            # Do something with student_dict\n",
    "            student_obj = dict_to_student(student_dict)\n",
    "            print(\"Student found:\", student_obj.name)\n",
    "            return student_obj\n",
    "\n",
    "        except ValueError as e:\n",
    "            print(e)\n",
    "    def delete_student(self,student):\n",
    "        query = {\"name\": student.name}\n",
    "        self.collection.delete_one(query)\n",
    "        print(f\"{student.name} has been deleted from collection: {self.name}\")\n",
    "    # gets list of all students in collection\n",
    "    def current_student_names(self):\n",
    "        student_names = []\n",
    "        student_data = list(self.collection.find())\n",
    "\n",
    "        for datam in student_data:\n",
    "\n",
    "            student_names.append(datam[\"name\"])\n",
    "        return student_names\n",
    "class Student:\n",
    "    def __init__(self,name, grade: float):\n",
    "        self.name = name\n",
    "        self.grade = grade\n",
    "        self.subtopics = [] # array of Subtopic objects\n",
    "        self.mistakes = np.empty(shape=(0,2)) # init as 0 x 2 array (Question, Mistakes) #TODO later add is_student_answer_correct\n",
    "\n",
    "    def in_dict_format(self):\n",
    "        return obj_to_dict(self)\n",
    "    \n",
    "    def current_subtopic_names(self):\n",
    "        if not len (self.subtopics) == 0:\n",
    "            return list(map(lambda subtopic: subtopic.name, self.subtopics))\n",
    "        else: \n",
    "            return []\n",
    "\n",
    "    def get_subtopic(self,subtopic_name):\n",
    "        for i,name in enumerate(self.current_subtopic_names()):\n",
    "            if name == subtopic_name:\n",
    "                print(f\" {subtopic_name} is already in {self.name}'s database\")\n",
    "                return self.subtopics[i]\n",
    "        # if name not found\n",
    "        print(f\"{subtopic_name} not found in database, so it will be created\")\n",
    "        subtopic = Subtopic(subtopic_name,1)\n",
    "        return subtopic\n",
    "    def add_subtopic(self,subtopic):\n",
    "        return self.subtopics.append(subtopic)\n",
    "\n",
    "    def add_mistakes(self, all_updates):\n",
    "        question = all_updates[\"question\"]\n",
    "        mistakes = all_updates[\"mistakes\"]\n",
    "        # Assuming mistakes is a list, add them individually\n",
    "        for mistake in mistakes:\n",
    "            question_mistake_row = np.array([question, mistake])  # Shape: (2, )\n",
    "            self.mistakes = np.append(self.mistakes, [question_mistake_row])  # Add within a list to preserve shape"
   ]
  },
  {
   "cell_type": "code",
   "execution_count": 6,
   "metadata": {
    "collapsed": false,
    "ExecuteTime": {
     "end_time": "2024-03-15T18:37:49.891229400Z",
     "start_time": "2024-03-15T18:37:49.876989600Z"
    }
   },
   "outputs": [],
   "source": [
    "# SC = StudentsCollection()\n",
    "# Alice = SC.get_student(\"Alice Carter\")\n",
    "# Alice.current_subtopic_names()\n"
   ]
  },
  {
   "cell_type": "code",
   "execution_count": 7,
   "metadata": {
    "collapsed": false,
    "ExecuteTime": {
     "end_time": "2024-03-15T18:37:49.911433600Z",
     "start_time": "2024-03-15T18:37:49.895236100Z"
    }
   },
   "outputs": [],
   "source": [
    "class Subtopic:\n",
    "    def __init__(self, name, level = 1):\n",
    "        # how many questions you answered for each of the 5 levels of a topic\n",
    "        self.name = name\n",
    "        self.metrics_map = {} #Hashmap of metrics (key: level, value: Metrics Object) \n",
    "    # all_updates: string or json or dictionary: updates that need to be done for metrics \n",
    "    def update_subtopic(self, all_updates):\n",
    "        # update the metrics\n",
    "        # find hashmap value/metrics object that corresponds to the level/key\n",
    "        key = all_updates[\"level\"]\n",
    "        if not self.metrics_map.get(key, None): # if None, \n",
    "            # add default Metrics object if isn't one in the map at the key\n",
    "            self.metrics_map[key] = Metrics()\n",
    "        metrics_to_update = self.metrics_map[key]\n",
    "        metrics_to_update.update(all_updates)\n",
    "    # returns and prints subtopic data in a json\n",
    "    def to_json(self):\n",
    "        subtopic_json = {\"name\": self.name, \"metrics\": {}}  \n",
    "        #add all related metrics by level\n",
    "        for level, metrics in self.metrics_map.items():\n",
    "            subtopic_json[\"metrics\"][level] = metrics.to_json() \n",
    "\n",
    "        subtopic_json = json.dumps(subtopic_json, indent=2)\n",
    "        # print(subtopic_json)\n",
    "        return subtopic_json  # Return the JSON string with indentation"
   ]
  },
  {
   "cell_type": "code",
   "execution_count": 8,
   "metadata": {
    "collapsed": false,
    "ExecuteTime": {
     "end_time": "2024-03-15T18:37:49.943910700Z",
     "start_time": "2024-03-15T18:37:49.913442300Z"
    }
   },
   "outputs": [],
   "source": [
    "class Metrics:\n",
    "    def __init__(self):\n",
    "        self.overall_avg = Metric(\"overall_avg\")\n",
    "        self.communication = Metric()\n",
    "        self.interpretation = Metric()\n",
    "        self.computation = Metric()\n",
    "        self.conceptual = Metric()\n",
    "        self.time = Metric(\"time\")\n",
    "\n",
    "    # returns dictionary of mistakes\n",
    "    # key = metric type, value: the actual mistakes\n",
    "    def get_all_mistakes(self):\n",
    "        mistakes = {}\n",
    "        mistakes[\"communication\"] = self.communication.related_mistakes\n",
    "        mistakes[\"interpretation\"] = self.interpretation.related_mistakes\n",
    "        mistakes[\"computation\"] = self.computation.related_mistakes\n",
    "        mistakes[\"conceptual\"] = self.conceptual.related_mistakes\n",
    "        return mistakes # convert dict to string\n",
    "\n",
    "    # update metric given update metrics in json/dict\n",
    "    def update(self, all_updates):\n",
    "        # attributes each metric has\n",
    "        # if the json does not have a value for an update, the value in the Metric object will remain unchanged\n",
    "        avg_comm = self.communication.update(all_updates[\"communication\"])\n",
    "        avg_interp = self.interpretation.update(all_updates[\"interpretation\"])\n",
    "        avg_comp = self.computation.update(all_updates[\"computation\"])\n",
    "        avg_conc = self.conceptual.update(all_updates[\"conceptual\"])\n",
    "        avg_time = self.time.update(all_updates[\"time\"])\n",
    "        # update overall_avg\n",
    "        # get average score of the newly calculated metrics\n",
    "        new_average = np.mean([avg_comm,avg_interp,avg_comp,avg_conc,avg_time])\n",
    "        # print(f\"\\n calculating overall avg\")\n",
    "\n",
    "        prev_scores = self.overall_avg.previous_scores\n",
    "        prev_scores.append(new_average)\n",
    "        if len(prev_scores) == 6:\n",
    "            prev_scores.pop(0)\n",
    "        # us the average of average scores to get the new \"overall avg\" score\n",
    "        self.overall_avg.avg_score = np.mean(prev_scores)\n",
    "    def to_json(self):\n",
    "        metrics_json = {\n",
    "            \"overall_avg\": self.overall_avg.to_json(),\n",
    "            \"communication\": self.communication.to_json(),\n",
    "            \"interpretation\": self.interpretation.to_json(),\n",
    "            \"computation\": self.computation.to_json(),\n",
    "            \"conceptual\": self.conceptual.to_json(),\n",
    "            \"time\": self.time.to_json()\n",
    "        }\n",
    "        return metrics_json\n"
   ]
  },
  {
   "cell_type": "code",
   "execution_count": 9,
   "metadata": {
    "collapsed": false,
    "ExecuteTime": {
     "end_time": "2024-03-15T18:37:49.945093200Z",
     "start_time": "2024-03-15T18:37:49.925989Z"
    }
   },
   "outputs": [],
   "source": [
    "\n",
    "class Metric:\n",
    "    # special types: time, overall_avg\n",
    "    # order of recent_times and related mistakes (oldest..... newest)\n",
    "    def __init__(self, metric_type = None):\n",
    "        self.avg_score = 0\n",
    "        self.previous_scores = []\n",
    "        self.num_questions = 0      # total number of questions asked\n",
    "        if metric_type == \"time\":\n",
    "            self.avg_time = None\n",
    "            self.recent_times = []\n",
    "    # updates metrics given json of new data\n",
    "    # NOT USED to update overall_avg ( can only be updated in \"Metrics\" object\n",
    "    # update: JSON\n",
    "    # returns average score for metric\n",
    "    def update(self, update):\n",
    "        # update num_questions\n",
    "        self.num_questions += 1\n",
    "        # get metrics previous scores and add new score,\n",
    "        prev_scores = self.previous_scores\n",
    "        prev_scores.append(update[\"score\"])\n",
    "        # remove oldest score\n",
    "        if len(prev_scores) == 6:\n",
    "            prev_scores.pop(0)\n",
    "        # get the average\n",
    "        self.avg_score = np.mean(prev_scores)\n",
    "\n",
    "        # if there is  time attribute, update the time data:\n",
    "        if hasattr(self, 'recent_times'):\n",
    "            recent_times = self.recent_times\n",
    "            recent_times.append(update[\"seconds\"])\n",
    "            if len(recent_times) == 6:\n",
    "                recent_times.pop(0)\n",
    "            self.avg_time = np.mean(recent_times)\n",
    "            # print(\"time average\",self.avg_time)\n",
    "            # print(\"recent times\",self.recent_times)\n",
    "        return self.avg_score\n",
    "\n",
    "    def to_json(self):\n",
    "        metric_json = {\n",
    "            \"avg_score\": self.avg_score,\n",
    "            # \"previous_scores\": self.previous_scores\n",
    "            \"num_questions\": self.num_questions\n",
    "        }\n",
    "        if hasattr(self, \"avg_time\"):\n",
    "            metric_json[\"avg_time\"] = self.avg_time\n",
    "            metric_json[\"recent_times\"] = self.recent_times\n",
    "        # elif hasattr(self, \"related_mistakes\"):\n",
    "        #     metric_json[\"related_mistakes\"] = self.related_mistakes\n",
    "\n",
    "        return metric_json\n",
    "    "
   ]
  },
  {
   "cell_type": "code",
   "execution_count": 10,
   "metadata": {
    "collapsed": false,
    "ExecuteTime": {
     "end_time": "2024-03-15T18:37:49.965089700Z",
     "start_time": "2024-03-15T18:37:49.939018200Z"
    }
   },
   "outputs": [],
   "source": [
    "student_data_import_json_1 = {\n",
    "    \"communication\": {\n",
    "        \"score\": 2\n",
    "    },\n",
    "    \"computation\": {\n",
    "        \"score\": 1\n",
    "    },\n",
    "    \"conceptual\": {\n",
    "        \"score\": 1\n",
    "    },\n",
    "    \"interpretation\": {\n",
    "        \"score\": 1\n",
    "    },\n",
    "    \"mistakes\": [\n",
    "        \"does not clearly explain the steps taken to subtract the numbers.\",\n",
    "        \"misinterpreted the question and did not understand that regrouping (borrowing) was not allowed,The answer provided does not align with the given instructions.\",\n",
    "        \"does not follow the correct method of subtraction without regrouping.\",\n",
    "        \"lacks a clear understanding of the concept of subtraction without regrouping\"\n",
    "    ],\n",
    "    \"overall_avg\": 2,\n",
    "    \"question\": \"A bakery has 86 cupcakes. They sell 59 cupcakes. How many cupcakes do they have left? Solve this without regrouping (borrowing). Show your work.\",\n",
    "    \"time\": {\n",
    "        \"score\": 5,\n",
    "        \"seconds\": 23\n",
    "    },\n",
    "     \"level\": 5\n",
    "}"
   ]
  },
  {
   "cell_type": "code",
   "execution_count": 0,
   "outputs": [],
   "source": [
    "# sub1 = Subtopic(\" basic addition\", 1)\n",
    "# sub1.update_subtopic(student_data_import_json_1)\n",
    "# sub1.to_json()"
   ],
   "metadata": {
    "collapsed": false
   }
  },
  {
   "cell_type": "code",
   "execution_count": 12,
   "outputs": [],
   "source": [
    "test_coll = StudentsCollection()"
   ],
   "metadata": {
    "collapsed": false,
    "ExecuteTime": {
     "end_time": "2024-03-15T18:40:31.009570700Z",
     "start_time": "2024-03-15T18:40:30.977029300Z"
    }
   }
  },
  {
   "cell_type": "code",
   "execution_count": null,
   "outputs": [],
   "source": [],
   "metadata": {
    "collapsed": false
   }
  }
 ],
 "metadata": {
  "kernelspec": {
   "display_name": "Python 3 (ipykernel)",
   "language": "python",
   "name": "python3"
  },
  "language_info": {
   "codemirror_mode": {
    "name": "ipython",
    "version": 3
   },
   "file_extension": ".py",
   "mimetype": "text/x-python",
   "name": "python",
   "nbconvert_exporter": "python",
   "pygments_lexer": "ipython3",
   "version": "3.8.10"
  }
 },
 "nbformat": 4,
 "nbformat_minor": 4
}
