{
 "cells": [
  {
   "cell_type": "code",
   "execution_count": 1,
   "metadata": {
    "collapsed": true,
    "jupyter": {
     "outputs_hidden": true
    },
    "ExecuteTime": {
     "end_time": "2024-03-28T05:56:14.191873300Z",
     "start_time": "2024-03-28T05:56:12.713723800Z"
    }
   },
   "outputs": [
    {
     "name": "stdout",
     "output_type": "stream",
     "text": [
      "Pinged your deployment. You successfully connected to MongoDB!\n"
     ]
    }
   ],
   "source": [
    "import json\n",
    "import numpy as np\n",
    "from database_connect import client # gets MongoDB client, which gives access to data"
   ]
  },
  {
   "cell_type": "code",
   "execution_count": 2,
   "metadata": {
    "collapsed": false,
    "ExecuteTime": {
     "end_time": "2024-03-25T05:04:17.814798800Z",
     "start_time": "2024-03-25T05:04:17.758642700Z"
    }
   },
   "outputs": [],
   "source": [
    "# constants\n",
    "# default collection used\n",
    "main_collection = \"Section0\""
   ]
  },
  {
   "cell_type": "code",
   "execution_count": 3,
   "metadata": {
    "collapsed": false,
    "ExecuteTime": {
     "end_time": "2024-03-25T05:04:18.713768500Z",
     "start_time": "2024-03-25T05:04:18.670473100Z"
    }
   },
   "outputs": [],
   "source": [
    "# examples for visualizing jsons\n",
    "# format of 'all_updates':"
   ]
  },
  {
   "cell_type": "code",
   "execution_count": 4,
   "metadata": {
    "collapsed": false,
    "ExecuteTime": {
     "end_time": "2024-03-25T05:04:18.935325100Z",
     "start_time": "2024-03-25T05:04:18.853455100Z"
    }
   },
   "outputs": [],
   "source": [
    "# recursively create JSON\n",
    "def obj_to_dict(obj):\n",
    "    # recursive calls run depending on if the call's obj is a list, dictionary, object, or primitive ( int, string, float, etc)\n",
    "    if isinstance(obj, list): # if list\n",
    "        return [obj_to_dict(e) for e in obj]\n",
    "    elif isinstance(obj, dict): # if dictionary or object\n",
    "        return {str(key): obj_to_dict(value) for key, value in obj.items()}\n",
    "    elif hasattr(obj, '__dict__'): # if object\n",
    "        return {str(key): obj_to_dict(value) for key, value in obj.__dict__.items()}\n",
    "    else: # if primitive\n",
    "        return obj\n",
    "\n",
    "def dict_to_student(dict_data):\n",
    "    # print(dict_data)\n",
    "    # Initialize student Object\n",
    "    student = Student(dict_data['name'])\n",
    "    # Initialize and fill subtopics\n",
    "    for subtopic_data in dict_data['subtopics']:\n",
    "        subtopic = Subtopic(subtopic_data['name'], subtopic_data[\"grade\"], subtopic_data[\"education_lvl\"],subtopic_data[\"topic_name\"])  # create Subtopic Object\n",
    "\n",
    "        # Fill in metrics data\n",
    "        metrics_map_data = subtopic_data['metrics_map']\n",
    "        for level, metrics_data in metrics_map_data.items(): # level is the key to the hashmap\n",
    "            metrics_obj = Metrics()  # Create Metrics object for this level\n",
    "            # print(metrics_data.keys())\n",
    "\n",
    "            # make metric object references\n",
    "            overall_avg_obj = metrics_obj.overall_avg\n",
    "            communication_obj = metrics_obj.communication\n",
    "            interpretation_obj = metrics_obj.interpretation\n",
    "            computation_obj = metrics_obj.computation\n",
    "            conceptual_obj = metrics_obj.conceptual\n",
    "            time_obj = metrics_obj.time\n",
    "\n",
    "            # update all metric objects\n",
    "            for metric in [ overall_avg_obj, communication_obj,interpretation_obj,computation_obj, conceptual_obj, time_obj]:\n",
    "                metric_type = metric.metric_type # eg. communication\n",
    "                metric_json = metrics_data[metric_type]\n",
    "                metric.avg_score = metric_json[\"avg_score\"]\n",
    "                metric.previous_scores = metric_json[\"previous_scores\"]\n",
    "                metric.num_questions = metric_json[\"num_questions\"]\n",
    "                if metric_type == \"time\":\n",
    "                    metric.avg_time = metric_json[\"avg_time\"]\n",
    "                    metric.recent_times = metric_json[\"recent_times\"]\n",
    "            # metrics_obj.update(metrics_info)  # Update metrics\n",
    "            subtopic.metrics_map[level] = metrics_obj\n",
    "\n",
    "        student.add_subtopic(subtopic)\n",
    "    student.mistakes = dict_data[\"mistakes\"]\n",
    "\n",
    "    return student  # Return the completed student object"
   ]
  },
  {
   "cell_type": "code",
   "execution_count": 5,
   "metadata": {
    "collapsed": false,
    "ExecuteTime": {
     "end_time": "2024-03-25T05:04:19.114740900Z",
     "start_time": "2024-03-25T05:04:19.039133100Z"
    }
   },
   "outputs": [],
   "source": [
    "class StudentsCollection:\n",
    "    def __init__(self, collection = \"Section0\"):\n",
    "        database = client[\"Students\"]\n",
    "        self.name = collection\n",
    "        self.collection = database[collection] # a collection ( ex: Section0)\n",
    "    def add_student(self,student):\n",
    "        # make student into dictionary format\n",
    "        student_dict = student.in_dict_format()\n",
    "        self.collection.insert_one(student_dict)\n",
    "        print(f\"{student.name} has been added to collection: {self.name}\")\n",
    "    # takes in student's name\n",
    "    # returns wanted student from database or None (student is not in database)\n",
    "    def get_student(self, student_name):\n",
    "        query = {\"name\": student_name}\n",
    "        # Fetch the student data as a list\n",
    "        student_dict_list = list(self.collection.find(query))\n",
    "        try:\n",
    "            if not student_dict_list:  # Checks if the list is empty\n",
    "                raise ValueError(\"No student found with the given name.\")\n",
    "            # Get the first student_dict from the list (assuming there should only be one)\n",
    "            student_dict = student_dict_list[0]\n",
    "            # Do something with student_dict\n",
    "            student_obj = dict_to_student(student_dict)\n",
    "            print(\"Student found:\", student_obj.name)\n",
    "            return student_obj\n",
    "\n",
    "        except ValueError as e:\n",
    "            print(e)\n",
    "    def delete_student(self,student):\n",
    "        query = {\"name\": student.name}\n",
    "        self.collection.delete_one(query)\n",
    "        print(f\"{student.name} has been deleted from collection: {self.name}\")\n",
    "    # gets list of all students in collection\n",
    "    def current_student_names(self):\n",
    "        student_names = []\n",
    "        student_data = list(self.collection.find())\n",
    "\n",
    "        for datam in student_data:\n",
    "            student_names.append(datam[\"name\"])\n",
    "        return student_names\n",
    "    "
   ]
  },
  {
   "cell_type": "code",
   "execution_count": 6,
   "outputs": [],
   "source": [
    "class Student:\n",
    "    def __init__(self,name, grade = 0):\n",
    "        self.name = name\n",
    "        self.grade = grade\n",
    "        self.subtopics = [] # array of Subtopic objects\n",
    "        self.mistakes = np.empty((0, 2)) # init as 0 x 2 array (Question, Mistakes) #TODO later add is_student_answer_correct\n",
    "\n",
    "    def in_dict_format(self):\n",
    "        return obj_to_dict(self)\n",
    "        \n",
    "    def current_subtopic_ids(self):\n",
    "        if not len (self.subtopics) == 0:\n",
    "            return list(map(lambda subtopic: subtopic.id, self.subtopics))\n",
    "        else:\n",
    "            return []\n",
    "\n",
    "    # gets the subtopic\n",
    "    def get_subtopic(self, subtopic_id):\n",
    "        for i, id in enumerate(self.current_subtopic_ids()):\n",
    "            if id == subtopic_id:\n",
    "                print(f\"The subtopic is already in {self.name}'s database\")\n",
    "                return self.subtopics[i]\n",
    "        # if name not found\n",
    "        print(f\"{subtopic_id} not found in database, so it will be created\")\n",
    "        # subtopic = Subtopic(subtopic_name,1)\n",
    "        # return subtopic\n",
    "    def add_subtopic(self,subtopic):\n",
    "        return self.subtopics.append(subtopic)\n",
    "\n",
    "    # adds array (question, mistake) to student's data\n",
    "    def add_mistakes(self, all_updates):\n",
    "        question = all_updates[\"question\"]\n",
    "        mistakes = all_updates[\"mistakes\"]\n",
    "        # Assuming mistakes is a list, add them individually\n",
    "        # print(f\"question: {question}\\n\\n mistakes: {mistakes}\")\n",
    "        # for mistake in mistakes:\n",
    "        row = np.array([question, mistakes])  # Shape: (2, )\n",
    "        self.mistakes = np.vstack((self.mistakes, row))  # Add within a list to preserve shape\n",
    "        self.mistakes = self.mistakes.tolist() # np --> list\n"
   ],
   "metadata": {
    "collapsed": false,
    "ExecuteTime": {
     "end_time": "2024-03-25T05:04:19.295504400Z",
     "start_time": "2024-03-25T05:04:19.227267700Z"
    }
   }
  },
  {
   "cell_type": "code",
   "execution_count": 7,
   "metadata": {
    "collapsed": false,
    "ExecuteTime": {
     "end_time": "2024-03-25T05:04:19.755517500Z",
     "start_time": "2024-03-25T05:04:19.714361600Z"
    }
   },
   "outputs": [],
   "source": [
    "# SC = StudentsCollection()\n",
    "# Alice = SC.get_student(\"Alice Carter\")\n"
   ]
  },
  {
   "cell_type": "code",
   "execution_count": 7,
   "outputs": [],
   "source": [],
   "metadata": {
    "collapsed": false,
    "ExecuteTime": {
     "end_time": "2024-03-25T05:04:20.057263Z",
     "start_time": "2024-03-25T05:04:20.029263100Z"
    }
   }
  },
  {
   "cell_type": "code",
   "execution_count": 8,
   "metadata": {
    "collapsed": false,
    "ExecuteTime": {
     "end_time": "2024-03-25T05:04:20.639190900Z",
     "start_time": "2024-03-25T05:04:20.608421600Z"
    }
   },
   "outputs": [],
   "source": [
    "class Subtopic:\n",
    "    def __init__(self, name, grade, education, topic_name):\n",
    "        # how many questions you answered for each of the 5 levels of a topic\n",
    "        self.name = name # subtopic name\n",
    "        self.grade = grade\n",
    "        self.education_lvl = education\n",
    "        self.topic_name = topic_name # the subtopic is a subset of the overall topic\n",
    "        self.id = f\"{grade}|{education}|{topic_name}|{name}\"\n",
    "        self.metrics_map = {} #Hashmap of metrics (key: level, value: Metrics Object) \n",
    "    # all_updates: string or json or dictionary: updates that need to be done for metrics \n",
    "    def update_subtopic(self, all_updates):\n",
    "        # update the metrics\n",
    "        # find hashmap value/metrics object that corresponds to the level/key\n",
    "        key = all_updates[\"level\"]\n",
    "        if not self.metrics_map.get(key, None): # if None, \n",
    "            # add default Metrics object if isn't one in the map at the key\n",
    "            self.metrics_map[key] = Metrics()\n",
    "        metrics_to_update = self.metrics_map[key]\n",
    "        metrics_to_update.update(all_updates)\n",
    "    # returns and prints subtopic data in a json\n",
    "    def to_json(self):\n",
    "        subtopic_json = {\n",
    "            \"name\": self.name,\n",
    "            \"grade\": self.grade,  # Include grade\n",
    "            \"education_lvl\": self.education_lvl,  # Include education level\n",
    "            \"topic_name\": self.topic_name,  # Include topic name\n",
    "            \"metrics_map\": {}\n",
    "        }\n",
    "        #add all related metrics by level\n",
    "        for level, metrics in self.metrics_map.items():\n",
    "            subtopic_json[\"metrics_map\"][level] = metrics.to_json() \n",
    "\n",
    "        subtopic_json = json.dumps(subtopic_json, indent=2)\n",
    "        # print(subtopic_json)\n",
    "        return subtopic_json  # Return the JSON string with indentation"
   ]
  },
  {
   "cell_type": "code",
   "execution_count": 9,
   "metadata": {
    "collapsed": false,
    "ExecuteTime": {
     "end_time": "2024-03-25T05:04:21.141342Z",
     "start_time": "2024-03-25T05:04:21.111539100Z"
    }
   },
   "outputs": [],
   "source": [
    "class Metrics:\n",
    "    def __init__(self):\n",
    "        self.overall_avg = Metric(\"overall_avg\")\n",
    "        self.communication = Metric(\"communication\")\n",
    "        self.interpretation = Metric(\"interpretation\")\n",
    "        self.computation = Metric(\"computation\")\n",
    "        self.conceptual = Metric(\"conceptual\")\n",
    "        self.time = Metric(\"time\")\n",
    "\n",
    "    # returns dictionary of mistakes\n",
    "    # key = metric type, value: the actual mistakes\n",
    "    def get_all_mistakes(self):\n",
    "        mistakes = {}\n",
    "        mistakes[\"communication\"] = self.communication.related_mistakes\n",
    "        mistakes[\"interpretation\"] = self.interpretation.related_mistakes\n",
    "        mistakes[\"computation\"] = self.computation.related_mistakes\n",
    "        mistakes[\"conceptual\"] = self.conceptual.related_mistakes\n",
    "        return mistakes # convert dict to string\n",
    "\n",
    "    # update metric given update metrics in json/dict\n",
    "    def update(self, all_updates):\n",
    "        # attributes each metric has\n",
    "        # if the json does not have a value for an update, the value in the Metric object will remain unchanged\n",
    "        avg_comm = self.communication.update(all_updates[\"communication\"])\n",
    "        avg_interp = self.interpretation.update(all_updates[\"interpretation\"])\n",
    "        avg_comp = self.computation.update(all_updates[\"computation\"])\n",
    "        avg_conc = self.conceptual.update(all_updates[\"conceptual\"])\n",
    "        avg_time = self.time.update(all_updates[\"time\"])\n",
    "        # update overall_avg\n",
    "        # get average score of the newly calculated metrics\n",
    "        new_average = np.mean([avg_comm,avg_interp,avg_comp,avg_conc,avg_time])\n",
    "        # print(f\"\\n calculating overall avg\")\n",
    "\n",
    "        prev_scores = self.overall_avg.previous_scores\n",
    "        prev_scores.append(new_average)\n",
    "        if len(prev_scores) == 6:\n",
    "            prev_scores.pop(0)\n",
    "        # us the average of average scores to get the new \"overall avg\" score\n",
    "        self.overall_avg.avg_score = np.mean(prev_scores)\n",
    "    def to_json(self):\n",
    "        metrics_json = {\n",
    "            \"overall_avg\": self.overall_avg.to_json(),\n",
    "            \"communication\": self.communication.to_json(),\n",
    "            \"interpretation\": self.interpretation.to_json(),\n",
    "            \"computation\": self.computation.to_json(),\n",
    "            \"conceptual\": self.conceptual.to_json(),\n",
    "            \"time\": self.time.to_json()\n",
    "        }\n",
    "        return metrics_json\n"
   ]
  },
  {
   "cell_type": "code",
   "execution_count": 10,
   "metadata": {
    "collapsed": false,
    "ExecuteTime": {
     "end_time": "2024-03-25T05:04:21.398326600Z",
     "start_time": "2024-03-25T05:04:21.372743500Z"
    }
   },
   "outputs": [],
   "source": [
    "\n",
    "class Metric:\n",
    "    # special types: time, overall_avg\n",
    "    # order of recent_times and related mistakes (oldest..... newest)\n",
    "    def __init__(self, metric_type = None):\n",
    "        self.metric_type = metric_type\n",
    "        self.avg_score = 0\n",
    "        self.previous_scores = []\n",
    "        self.num_questions = 0      # total number of questions asked\n",
    "        if metric_type == \"time\":\n",
    "            self.avg_time = None\n",
    "            self.recent_times = []\n",
    "    # updates metrics given json of new data\n",
    "    # NOT USED to update overall_avg ( can only be updated in \"Metrics\" object\n",
    "    # update: JSON\n",
    "    # returns average score for metric\n",
    "    #TODO figure out `TypeError: 'int' object is not subscriptable` error\n",
    "    def update(self, update):\n",
    "        # update num_questions\n",
    "        self.num_questions += 1\n",
    "        # get metrics previous scores and add new score,\n",
    "        prev_scores = self.previous_scores\n",
    "\n",
    "        # prev_scores.append(update[\"score\"])\n",
    "        # attempt to add the update to the previous score\n",
    "        try:\n",
    "            prev_scores.append(update[\"score\"]) # appending the score\n",
    "        except (KeyError, TypeError) as e:\n",
    "            # Handle the potential errors\n",
    "            print(f\"Error appending score: {e}\\n\")\n",
    "            print(\"--------------------------------------------------------\")\n",
    "            print(update)\n",
    "            print(\"--------------------------------------------------------\")\n",
    "            return -1\n",
    "\n",
    "        # remove oldest score\n",
    "        if len(prev_scores) == 6:\n",
    "            prev_scores.pop(0)\n",
    "        # get the average\n",
    "        self.avg_score = np.mean(prev_scores)\n",
    "\n",
    "        # if there is  time attribute, update the time data:\n",
    "        if hasattr(self, 'recent_times'):\n",
    "            recent_times = self.recent_times\n",
    "            recent_times.append(update[\"seconds\"])\n",
    "            if len(recent_times) == 6:\n",
    "                recent_times.pop(0)\n",
    "            self.avg_time = np.mean(recent_times)\n",
    "            # print(\"time average\",self.avg_time)\n",
    "            # print(\"recent times\",self.recent_times)\n",
    "        return self.avg_score\n",
    "\n",
    "\n",
    "    def to_json(self):\n",
    "        metric_json = {\n",
    "            \"avg_score\": self.avg_score,\n",
    "            \"previous_scores\": self.previous_scores,\n",
    "            \"num_questions\": self.num_questions\n",
    "        }\n",
    "        if hasattr(self, \"avg_time\"):\n",
    "            metric_json[\"avg_time\"] = self.avg_time\n",
    "            metric_json[\"recent_times\"] = self.recent_times\n",
    "        # if not hasattr(self,\"overall_avg\"):\n",
    "        #     metric_json[\"previous_scores\"]: self.previous_scores\n",
    "        # elif hasattr(self, \"related_mistakes\"):\n",
    "        #     metric_json[\"related_mistakes\"] = self.related_mistakes\n",
    "\n",
    "        return metric_json\n",
    "    "
   ]
  },
  {
   "cell_type": "code",
   "execution_count": 10,
   "outputs": [],
   "source": [],
   "metadata": {
    "collapsed": false,
    "ExecuteTime": {
     "end_time": "2024-03-25T05:04:21.655656500Z",
     "start_time": "2024-03-25T05:04:21.589499700Z"
    }
   }
  },
  {
   "cell_type": "code",
   "execution_count": null,
   "outputs": [],
   "source": [],
   "metadata": {
    "collapsed": false
   }
  }
 ],
 "metadata": {
  "kernelspec": {
   "display_name": "Python 3 (ipykernel)",
   "language": "python",
   "name": "python3"
  },
  "language_info": {
   "codemirror_mode": {
    "name": "ipython",
    "version": 3
   },
   "file_extension": ".py",
   "mimetype": "text/x-python",
   "name": "python",
   "nbconvert_exporter": "python",
   "pygments_lexer": "ipython3",
   "version": "3.8.10"
  }
 },
 "nbformat": 4,
 "nbformat_minor": 4
}
