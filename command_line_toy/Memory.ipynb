{
 "cells": [
  {
   "cell_type": "code",
   "execution_count": 2,
   "metadata": {
    "collapsed": true
   },
   "outputs": [
    {
     "name": "stdout",
     "output_type": "stream",
     "text": [
      "Pinged your deployment. You successfully connected to MongoDB!\n"
     ]
    }
   ],
   "source": [
    "from sklearn.metrics.pairwise import cosine_similarity as cos\n",
    "from sentence_transformers import SentenceTransformer as ST\n",
    "import numpy as np\n",
    "import re\n",
    "\n",
    "from database_connect import client # gets MongoDB client, which gives access to data"
   ]
  },
  {
   "cell_type": "code",
   "execution_count": 3,
   "outputs": [],
   "source": [
    "# collection: data called from MongoDB\n",
    "# json: data in json\n",
    "class Memories:\n",
    "    def __init__(self):\n",
    "        self.collection = client[\"Memory\"][\"Memory0\"]\n",
    "        self.json = list(client[\"Memory\"][\"Memory0\"].find())\n",
    "\n",
    "    def get_memory(self, question):\n",
    "        # returns memory that fits the question\n",
    "        return list(self.collection.find({\"Question\": question}))[0]\n",
    "\n",
    "    def get_questions(self):\n",
    "        return [question[\"Question\"] for question in self.json]\n",
    "\n",
    "    # single memorys\n",
    "    def get_feedback_at_index(self,i):\n",
    "        return list(self.collection.find().skip(i).limit(1))[0]\n",
    "\n",
    "    # update feedback for single memory\n",
    "    # add memory if it is not already in the database\n",
    "    def update_memory_feedback(self,question , feedback):\n",
    "        if self.collection.count_documents({\"Question\": question}) > 0:\n",
    "            memory = self.get_single_memory(question)\n",
    "            memory[\"Feedback\"].append(feedback)\n",
    "        else:\n",
    "            new_memory = {\n",
    "                \"Question\": question,\n",
    "                \"Feedback\": [feedback],\n",
    "            }\n",
    "            self.collection.insert_one(new_memory)\n",
    "            print(\"the question and the feedback has been added to memory\")\n"
   ],
   "metadata": {
    "collapsed": false,
    "ExecuteTime": {
     "end_time": "2023-10-29T12:27:53.334881900Z",
     "start_time": "2023-10-29T12:27:53.301883900Z"
    }
   }
  },
  {
   "cell_type": "code",
   "execution_count": 4,
   "outputs": [],
   "source": [
    "# Generate sentence embeddings for all the keys in the JSON file.\n",
    "# does cosine similarity for Questions ONLY\n",
    "# returns most similar memory and  feedback\n",
    "# if the question is already in the database, it will still be returned with this function ( similarity will equal 1)\n",
    "def find_most_similar_memory(query):\n",
    "    # get Memory in both collection and JSON format\n",
    "    memories0 = Memories()\n",
    "    model = ST('all-MiniLM-L6-v2')\n",
    "\n",
    "    # Load the JSON file.\n",
    "    memory_json = memories0.json\n",
    "\n",
    "    # Preprocess the query to all lowercase.\n",
    "    query = query.lower()\n",
    "\n",
    "    # embed the query\n",
    "    query_embed = model.encode(query)\n",
    "\n",
    "    print(query)\n",
    "\n",
    "    # Get all of the questions that are in the database\n",
    "    questions = memories0.get_questions()\n",
    "\n",
    "    # embed the memory's questions into vector representation\n",
    "    memory_embeds = model.encode(questions)\n",
    "\n",
    "    # calculate the cosine similarity of each embed from memory compared to the query embed\n",
    "    cos_sim = cos([query_embed], memory_embeds)\n",
    "\n",
    "    # get the index of the question with the highest similarity score\n",
    "    most_similar_question_index = int(np.argmax(cos_sim))\n",
    "\n",
    "    most_similar_question = memories0.get_feedback_at_index(most_similar_question_index)[\"Question\"]\n",
    "    most_similar_feedback = memories0.get_feedback_at_index(most_similar_question_index)[\"Feedback\"]\n",
    "\n",
    "    return most_similar_question, most_similar_feedback"
   ],
   "metadata": {
    "collapsed": false,
    "ExecuteTime": {
     "end_time": "2023-10-29T12:27:58.087255400Z",
     "start_time": "2023-10-29T12:27:58.033344Z"
    }
   }
  }
 ],
 "metadata": {
  "kernelspec": {
   "display_name": "Python 3",
   "language": "python",
   "name": "python3"
  },
  "language_info": {
   "codemirror_mode": {
    "name": "ipython",
    "version": 2
   },
   "file_extension": ".py",
   "mimetype": "text/x-python",
   "name": "python",
   "nbconvert_exporter": "python",
   "pygments_lexer": "ipython2",
   "version": "2.7.6"
  }
 },
 "nbformat": 4,
 "nbformat_minor": 0
}
