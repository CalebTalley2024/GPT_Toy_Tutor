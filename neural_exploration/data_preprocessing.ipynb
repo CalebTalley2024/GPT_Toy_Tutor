{
 "cells": [
  {
   "cell_type": "code",
   "execution_count": 133,
   "id": "initial_id",
   "metadata": {
    "collapsed": true,
    "ExecuteTime": {
     "end_time": "2024-03-27T02:12:51.319779600Z",
     "start_time": "2024-03-27T02:12:51.291166300Z"
    }
   },
   "outputs": [],
   "source": [
    "import torch\n",
    "import torch.nn as nn\n",
    "import pandas as pd\n",
    "import numpy as np"
   ]
  },
  {
   "cell_type": "code",
   "execution_count": 0,
   "outputs": [],
   "source": [
    "def preprocess_subtopics():\n",
    "    # preprocessing GPT tutor topics\n",
    "    df = pd.read_csv('../data/GPT_tutor_topics(sub_topics_included).csv')\n",
    "    # for every Sub_topic_z\n",
    "    # append the grade, education level, and Math topic to the subtopic\n",
    "    # allows for \n",
    "    # specification of sub_topic difficulty\n",
    "    # having same subtopic with different levels/topics\n",
    "    # example: (2: Elementary: Addition: 1 digit addition)\n",
    "    for row, df_entry in df.iterrows(): #  df_entry is just a copy of a df row\n",
    "        for i in range(1, 6):\n",
    "            grade = df_entry['Grade']\n",
    "            education_lvl = df_entry['Education Level']\n",
    "            topic = df_entry['Math Topic']\n",
    "            df.at[row,f'Sub_topic_{i}'] =  f\"{grade}:{education_lvl}:{topic}: {df.at[row,f'Sub_topic_{i}']}\"\n",
    "\n",
    "    # put all subtopics into column\n",
    "    subtopics = pd.concat(\n",
    "        [df['Sub_topic_1'],\n",
    "         df['Sub_topic_2'],\n",
    "         df['Sub_topic_3'],\n",
    "         df['Sub_topic_4'],\n",
    "         df['Sub_topic_5']], axis=0)\n",
    "\n",
    "    # name subtopics column 'Sub_topic'\n",
    "    subtopics_str = subtopics.rename('Sub_topic')\n",
    "\n",
    "    # remove duplicates\n",
    "    # why are there duplicates (needed to fill up 5 suptopics for a topic/school level\n",
    "    subtopics_str.drop_duplicates(inplace= True) # 2 duplicates in file\n",
    "\n",
    "    # randomize subtopic rows\n",
    "    np.random.seed(42) # random seed\n",
    "    subtopics_str = subtopics_str.sample(frac=1).reset_index(drop=True)\n",
    "\n",
    "    # if you want, convert df -> csv \n",
    "    export_csv = input(\"Type '1' if you want to export the subtopics into a csv?\")\n",
    "    if export_csv == 1:\n",
    "        df.to_csv('subtopics.csv',index = False)\n",
    "preprocess_subtopics()"
   ],
   "metadata": {
    "collapsed": false
   },
   "id": "6683de3caaf85cbc"
  },
  {
   "cell_type": "code",
   "execution_count": 140,
   "outputs": [],
   "source": [
    "\n",
    "# 30 x 40 tensor with random values\n",
    "\n",
    "stud_data = torch.rand(32, 40) #TODO \n",
    "\n",
    "num_mistakes = 34\n",
    "stud_mistakes = torch.rand(num_mistakes, 2)\n",
    "\n",
    "subtopics = pd.read_csv('../data/preprocessed/subtopics.csv') "
   ],
   "metadata": {
    "collapsed": false,
    "ExecuteTime": {
     "end_time": "2024-03-27T02:23:18.841294300Z",
     "start_time": "2024-03-27T02:23:18.799168500Z"
    }
   },
   "id": "c1f4955865d36598"
  },
  {
   "cell_type": "code",
   "execution_count": 142,
   "outputs": [
    {
     "data": {
      "text/plain": "     Grade Education Level                                      Math Topic  \\\n0        1      Elementary                                Counting numbers   \n1        1      Elementary                               Comparing numbers   \n2        1      Elementary                              Addition within 20   \n3        1      Elementary                           Subtraction within 20   \n4        1      Elementary                          Place value within 100   \n..     ...             ...                                             ...   \n121     12     High School          Trigonometric identities and equations   \n122     12     High School                   Analytic geometry and vectors   \n123     12     High School                      Probability and statistics   \n124     12     High School                                        Calculus   \n125     12     High School  Discrete mathematics and financial mathematics   \n\n                                           Sub_topic_1  \\\n0      1:Elementary:Counting numbers: Counting objects   \n1    1:Elementary:Comparing numbers: Comparing numb...   \n2    1:Elementary:Addition within 20: Addition with...   \n3    1:Elementary:Subtraction within 20: Subtractio...   \n4    1:Elementary:Place value within 100: Place val...   \n..                                                 ...   \n121  12:High School:Trigonometric identities and eq...   \n122  12:High School:Analytic geometry and vectors: ...   \n123  12:High School:Probability and statistics: Pro...   \n124     12:High School:Calculus: Limits and continuity   \n125  12:High School:Discrete mathematics and financ...   \n\n                                           Sub_topic_2  \\\n0    1:Elementary:Counting numbers: Counting forwar...   \n1    1:Elementary:Comparing numbers: Comparing numb...   \n2    1:Elementary:Addition within 20: Addition with...   \n3    1:Elementary:Subtraction within 20: Subtractio...   \n4    1:Elementary:Place value within 100: Expanded ...   \n..                                                 ...   \n121  12:High School:Trigonometric identities and eq...   \n122  12:High School:Analytic geometry and vectors: ...   \n123  12:High School:Probability and statistics: Dis...   \n124  12:High School:Calculus: Derivatives and their...   \n125  12:High School:Discrete mathematics and financ...   \n\n                                           Sub_topic_3  \\\n0    1:Elementary:Counting numbers: Skip counting b...   \n1    1:Elementary:Comparing numbers: Comparing numbers   \n2    1:Elementary:Addition within 20: Word problems...   \n3    1:Elementary:Subtraction within 20: Word probl...   \n4    1:Elementary:Place value within 100: Comparing...   \n..                                                 ...   \n121  12:High School:Trigonometric identities and eq...   \n122  12:High School:Analytic geometry and vectors: ...   \n123  12:High School:Probability and statistics: Sta...   \n124  12:High School:Calculus: Integrals and their a...   \n125  12:High School:Discrete mathematics and financ...   \n\n                                           Sub_topic_4  \\\n0    1:Elementary:Counting numbers: Counting in dif...   \n1    1:Elementary:Comparing numbers: Comparing quan...   \n2    1:Elementary:Addition within 20: Adding three ...   \n3    1:Elementary:Subtraction within 20: Subtractin...   \n4    1:Elementary:Place value within 100: Skip coun...   \n..                                                 ...   \n121  12:High School:Trigonometric identities and eq...   \n122  12:High School:Analytic geometry and vectors: ...   \n123  12:High School:Probability and statistics: Hyp...   \n124  12:High School:Calculus: Differential equation...   \n125  12:High School:Discrete mathematics and financ...   \n\n                                           Sub_topic_5  \n0    1:Elementary:Counting numbers: Counting on a n...  \n1     1:Elementary:Comparing numbers: Comparing values  \n2    1:Elementary:Addition within 20: Solving addit...  \n3    1:Elementary:Subtraction within 20: Solving su...  \n4    1:Elementary:Place value within 100: Represent...  \n..                                                 ...  \n121  12:High School:Trigonometric identities and eq...  \n122  12:High School:Analytic geometry and vectors: ...  \n123  12:High School:Probability and statistics: Reg...  \n124  12:High School:Calculus: Multivariable calculu...  \n125  12:High School:Discrete mathematics and financ...  \n\n[126 rows x 8 columns]",
      "text/html": "<div>\n<style scoped>\n    .dataframe tbody tr th:only-of-type {\n        vertical-align: middle;\n    }\n\n    .dataframe tbody tr th {\n        vertical-align: top;\n    }\n\n    .dataframe thead th {\n        text-align: right;\n    }\n</style>\n<table border=\"1\" class=\"dataframe\">\n  <thead>\n    <tr style=\"text-align: right;\">\n      <th></th>\n      <th>Grade</th>\n      <th>Education Level</th>\n      <th>Math Topic</th>\n      <th>Sub_topic_1</th>\n      <th>Sub_topic_2</th>\n      <th>Sub_topic_3</th>\n      <th>Sub_topic_4</th>\n      <th>Sub_topic_5</th>\n    </tr>\n  </thead>\n  <tbody>\n    <tr>\n      <th>0</th>\n      <td>1</td>\n      <td>Elementary</td>\n      <td>Counting numbers</td>\n      <td>1:Elementary:Counting numbers: Counting objects</td>\n      <td>1:Elementary:Counting numbers: Counting forwar...</td>\n      <td>1:Elementary:Counting numbers: Skip counting b...</td>\n      <td>1:Elementary:Counting numbers: Counting in dif...</td>\n      <td>1:Elementary:Counting numbers: Counting on a n...</td>\n    </tr>\n    <tr>\n      <th>1</th>\n      <td>1</td>\n      <td>Elementary</td>\n      <td>Comparing numbers</td>\n      <td>1:Elementary:Comparing numbers: Comparing numb...</td>\n      <td>1:Elementary:Comparing numbers: Comparing numb...</td>\n      <td>1:Elementary:Comparing numbers: Comparing numbers</td>\n      <td>1:Elementary:Comparing numbers: Comparing quan...</td>\n      <td>1:Elementary:Comparing numbers: Comparing values</td>\n    </tr>\n    <tr>\n      <th>2</th>\n      <td>1</td>\n      <td>Elementary</td>\n      <td>Addition within 20</td>\n      <td>1:Elementary:Addition within 20: Addition with...</td>\n      <td>1:Elementary:Addition within 20: Addition with...</td>\n      <td>1:Elementary:Addition within 20: Word problems...</td>\n      <td>1:Elementary:Addition within 20: Adding three ...</td>\n      <td>1:Elementary:Addition within 20: Solving addit...</td>\n    </tr>\n    <tr>\n      <th>3</th>\n      <td>1</td>\n      <td>Elementary</td>\n      <td>Subtraction within 20</td>\n      <td>1:Elementary:Subtraction within 20: Subtractio...</td>\n      <td>1:Elementary:Subtraction within 20: Subtractio...</td>\n      <td>1:Elementary:Subtraction within 20: Word probl...</td>\n      <td>1:Elementary:Subtraction within 20: Subtractin...</td>\n      <td>1:Elementary:Subtraction within 20: Solving su...</td>\n    </tr>\n    <tr>\n      <th>4</th>\n      <td>1</td>\n      <td>Elementary</td>\n      <td>Place value within 100</td>\n      <td>1:Elementary:Place value within 100: Place val...</td>\n      <td>1:Elementary:Place value within 100: Expanded ...</td>\n      <td>1:Elementary:Place value within 100: Comparing...</td>\n      <td>1:Elementary:Place value within 100: Skip coun...</td>\n      <td>1:Elementary:Place value within 100: Represent...</td>\n    </tr>\n    <tr>\n      <th>...</th>\n      <td>...</td>\n      <td>...</td>\n      <td>...</td>\n      <td>...</td>\n      <td>...</td>\n      <td>...</td>\n      <td>...</td>\n      <td>...</td>\n    </tr>\n    <tr>\n      <th>121</th>\n      <td>12</td>\n      <td>High School</td>\n      <td>Trigonometric identities and equations</td>\n      <td>12:High School:Trigonometric identities and eq...</td>\n      <td>12:High School:Trigonometric identities and eq...</td>\n      <td>12:High School:Trigonometric identities and eq...</td>\n      <td>12:High School:Trigonometric identities and eq...</td>\n      <td>12:High School:Trigonometric identities and eq...</td>\n    </tr>\n    <tr>\n      <th>122</th>\n      <td>12</td>\n      <td>High School</td>\n      <td>Analytic geometry and vectors</td>\n      <td>12:High School:Analytic geometry and vectors: ...</td>\n      <td>12:High School:Analytic geometry and vectors: ...</td>\n      <td>12:High School:Analytic geometry and vectors: ...</td>\n      <td>12:High School:Analytic geometry and vectors: ...</td>\n      <td>12:High School:Analytic geometry and vectors: ...</td>\n    </tr>\n    <tr>\n      <th>123</th>\n      <td>12</td>\n      <td>High School</td>\n      <td>Probability and statistics</td>\n      <td>12:High School:Probability and statistics: Pro...</td>\n      <td>12:High School:Probability and statistics: Dis...</td>\n      <td>12:High School:Probability and statistics: Sta...</td>\n      <td>12:High School:Probability and statistics: Hyp...</td>\n      <td>12:High School:Probability and statistics: Reg...</td>\n    </tr>\n    <tr>\n      <th>124</th>\n      <td>12</td>\n      <td>High School</td>\n      <td>Calculus</td>\n      <td>12:High School:Calculus: Limits and continuity</td>\n      <td>12:High School:Calculus: Derivatives and their...</td>\n      <td>12:High School:Calculus: Integrals and their a...</td>\n      <td>12:High School:Calculus: Differential equation...</td>\n      <td>12:High School:Calculus: Multivariable calculu...</td>\n    </tr>\n    <tr>\n      <th>125</th>\n      <td>12</td>\n      <td>High School</td>\n      <td>Discrete mathematics and financial mathematics</td>\n      <td>12:High School:Discrete mathematics and financ...</td>\n      <td>12:High School:Discrete mathematics and financ...</td>\n      <td>12:High School:Discrete mathematics and financ...</td>\n      <td>12:High School:Discrete mathematics and financ...</td>\n      <td>12:High School:Discrete mathematics and financ...</td>\n    </tr>\n  </tbody>\n</table>\n<p>126 rows × 8 columns</p>\n</div>"
     },
     "execution_count": 142,
     "metadata": {},
     "output_type": "execute_result"
    }
   ],
   "source": [
    "subtopics"
   ],
   "metadata": {
    "collapsed": false,
    "ExecuteTime": {
     "end_time": "2024-03-27T02:26:08.963588200Z",
     "start_time": "2024-03-27T02:26:08.935454700Z"
    }
   },
   "id": "fa8e27ffd6901e67"
  },
  {
   "cell_type": "code",
   "execution_count": 143,
   "outputs": [],
   "source": [
    "# hot encode subtopics with 0s and 1s \n",
    "subtopics_enc = pd.get_dummies(subtopics).astype(int) # (astype(int) make this 0s and 1s as opposed to T and F)\n",
    "# convert this df into tensor\n",
    "subtopics_tensor = torch.tensor(subtopics_enc.values) # .values get np array of the data"
   ],
   "metadata": {
    "collapsed": false,
    "ExecuteTime": {
     "end_time": "2024-03-27T02:26:40.174056400Z",
     "start_time": "2024-03-27T02:26:40.150412700Z"
    }
   },
   "id": "db631d112a1460d5"
  }
 ],
 "metadata": {
  "kernelspec": {
   "display_name": "Python 3",
   "language": "python",
   "name": "python3"
  },
  "language_info": {
   "codemirror_mode": {
    "name": "ipython",
    "version": 2
   },
   "file_extension": ".py",
   "mimetype": "text/x-python",
   "name": "python",
   "nbconvert_exporter": "python",
   "pygments_lexer": "ipython2",
   "version": "2.7.6"
  }
 },
 "nbformat": 4,
 "nbformat_minor": 5
}
