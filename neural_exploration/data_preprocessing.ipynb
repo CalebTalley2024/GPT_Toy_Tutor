{
 "cells": [
  {
   "cell_type": "code",
   "execution_count": 6,
   "id": "initial_id",
   "metadata": {
    "collapsed": true
   },
   "outputs": [],
   "source": [
    "import torch\n",
    "import torch.nn as nn\n",
    "import pandas as pd\n",
    "import numpy as np"
   ]
  },
  {
   "cell_type": "code",
   "execution_count": 8,
   "outputs": [],
   "source": [
    "def preprocess_subtopics():\n",
    "    # preprocessing GPT tutor topics\n",
    "    df = pd.read_csv('../data/GPT_tutor_topics(subtopics_included).csv')\n",
    "    # for every Sub_topic_z\n",
    "    # append the grade, education level, and Math topic to the subtopic\n",
    "    # allows for \n",
    "    # specification of sub_topic difficulty\n",
    "    # having same subtopic with different levels/topics\n",
    "    # (grade: School Level: Topic: Subtopic)\n",
    "    # example: (2: Elementary: Addition: 1 digit addition)\n",
    "    for row, df_entry in df.iterrows(): #  df_entry is just a copy of a df row\n",
    "        for i in range(1, 6):\n",
    "            grade = df_entry['Grade']\n",
    "            education_lvl = df_entry['Education Level']\n",
    "            topic = df_entry['Math Topic']\n",
    "            df.at[row,f'Sub_topic_{i}'] =  f\"{grade}:{education_lvl}:{topic}: {df.at[row,f'Sub_topic_{i}']}\"\n",
    "\n",
    "    # put all subtopics into column\n",
    "    subtopics = pd.concat(\n",
    "        [df['Sub_topic_1'],\n",
    "         df['Sub_topic_2'],\n",
    "         df['Sub_topic_3'],\n",
    "         df['Sub_topic_4'],\n",
    "         df['Sub_topic_5']], axis=0)\n",
    "\n",
    "    # name subtopics column 'Sub_topic'\n",
    "    subtopics_str = subtopics.rename('Grade: Education Level: Topic: Sub Topic')\n",
    "\n",
    "    # remove duplicates\n",
    "    # why are there duplicates (needed to fill up 5 suptopics for a topic/school level\n",
    "    subtopics_str.drop_duplicates(inplace= True) # 2 duplicates in file\n",
    "\n",
    "    # randomize subtopic rows\n",
    "    np.random.seed(42) # random seed\n",
    "    subtopics_str = subtopics_str.sample(frac=1).reset_index(drop=True)\n",
    "\n",
    "    return subtopics_str\n",
    "subtopics = preprocess_subtopics()"
   ],
   "metadata": {
    "collapsed": false,
    "ExecuteTime": {
     "end_time": "2024-04-21T18:48:41.676849300Z",
     "start_time": "2024-04-21T18:48:41.627084900Z"
    }
   },
   "id": "6683de3caaf85cbc"
  },
  {
   "cell_type": "code",
   "execution_count": 9,
   "outputs": [],
   "source": [
    "subtopics.to_csv('subtopics.csv',index = False) # exports subtopics csv"
   ],
   "metadata": {
    "collapsed": false,
    "ExecuteTime": {
     "end_time": "2024-04-21T18:48:42.407621Z",
     "start_time": "2024-04-21T18:48:42.385971200Z"
    }
   },
   "id": "86c602f5c2083b2e"
  },
  {
   "cell_type": "code",
   "execution_count": 10,
   "outputs": [],
   "source": [
    "# 30 x 40 tensor with random values\n",
    "\n",
    "stud_data = torch.rand(32, 40) #TODO \n",
    "num_mistakes = 34\n",
    "stud_mistakes = torch.rand(num_mistakes, 2)\n",
    "\n",
    "subtopics = pd.read_csv('../data/preprocessed/subtopics.csv') "
   ],
   "metadata": {
    "collapsed": false,
    "ExecuteTime": {
     "end_time": "2024-04-21T18:48:43.028475900Z",
     "start_time": "2024-04-21T18:48:42.988725100Z"
    }
   },
   "id": "c1f4955865d36598"
  },
  {
   "cell_type": "code",
   "execution_count": 11,
   "outputs": [
    {
     "data": {
      "text/plain": "              Grade: Education Level: Topic: Sub Topic\n0    8:Middle School:Linear equations: Analyzing an...\n1    9:High School:Linear equations: Analyzing and ...\n2    5:Elementary:Operations with decimals of divis...\n3    9:High School:Linear equations: Writing and so...\n4    10:High School:Logarithms: Applying logarithmi...\n..                                                 ...\n623  7:Middle School:Rational numbers and rational ...\n624  10:High School:Quadratic Equations: Solving qu...\n625  2:Elementary:Measurement of weight: Comparing ...\n626  6:Middle School:Division of fractions: Solving...\n627  10:High School:Trigonometry: Understanding tri...\n\n[628 rows x 1 columns]",
      "text/html": "<div>\n<style scoped>\n    .dataframe tbody tr th:only-of-type {\n        vertical-align: middle;\n    }\n\n    .dataframe tbody tr th {\n        vertical-align: top;\n    }\n\n    .dataframe thead th {\n        text-align: right;\n    }\n</style>\n<table border=\"1\" class=\"dataframe\">\n  <thead>\n    <tr style=\"text-align: right;\">\n      <th></th>\n      <th>Grade: Education Level: Topic: Sub Topic</th>\n    </tr>\n  </thead>\n  <tbody>\n    <tr>\n      <th>0</th>\n      <td>8:Middle School:Linear equations: Analyzing an...</td>\n    </tr>\n    <tr>\n      <th>1</th>\n      <td>9:High School:Linear equations: Analyzing and ...</td>\n    </tr>\n    <tr>\n      <th>2</th>\n      <td>5:Elementary:Operations with decimals of divis...</td>\n    </tr>\n    <tr>\n      <th>3</th>\n      <td>9:High School:Linear equations: Writing and so...</td>\n    </tr>\n    <tr>\n      <th>4</th>\n      <td>10:High School:Logarithms: Applying logarithmi...</td>\n    </tr>\n    <tr>\n      <th>...</th>\n      <td>...</td>\n    </tr>\n    <tr>\n      <th>623</th>\n      <td>7:Middle School:Rational numbers and rational ...</td>\n    </tr>\n    <tr>\n      <th>624</th>\n      <td>10:High School:Quadratic Equations: Solving qu...</td>\n    </tr>\n    <tr>\n      <th>625</th>\n      <td>2:Elementary:Measurement of weight: Comparing ...</td>\n    </tr>\n    <tr>\n      <th>626</th>\n      <td>6:Middle School:Division of fractions: Solving...</td>\n    </tr>\n    <tr>\n      <th>627</th>\n      <td>10:High School:Trigonometry: Understanding tri...</td>\n    </tr>\n  </tbody>\n</table>\n<p>628 rows × 1 columns</p>\n</div>"
     },
     "execution_count": 11,
     "metadata": {},
     "output_type": "execute_result"
    }
   ],
   "source": [
    "subtopics"
   ],
   "metadata": {
    "collapsed": false,
    "ExecuteTime": {
     "end_time": "2024-04-21T18:48:43.492645900Z",
     "start_time": "2024-04-21T18:48:43.457668100Z"
    }
   },
   "id": "fa8e27ffd6901e67"
  },
  {
   "cell_type": "code",
   "execution_count": 5,
   "outputs": [],
   "source": [
    "# hot encode subtopics with 0s and 1s \n",
    "subtopics_enc = pd.get_dummies(subtopics).astype(int) # (astype(int) make this 0s and 1s as opposed to T and F)\n",
    "# convert this df into tensor\n",
    "subtopics_tensor = torch.tensor(subtopics_enc.values) # .values get np array of the data"
   ],
   "metadata": {
    "collapsed": false,
    "ExecuteTime": {
     "end_time": "2024-03-27T02:42:43.945053800Z",
     "start_time": "2024-03-27T02:42:43.877868500Z"
    }
   },
   "id": "db631d112a1460d5"
  },
  {
   "cell_type": "code",
   "execution_count": null,
   "outputs": [],
   "source": [],
   "metadata": {
    "collapsed": false
   },
   "id": "e542549cf6976974"
  }
 ],
 "metadata": {
  "kernelspec": {
   "display_name": "Python 3",
   "language": "python",
   "name": "python3"
  },
  "language_info": {
   "codemirror_mode": {
    "name": "ipython",
    "version": 2
   },
   "file_extension": ".py",
   "mimetype": "text/x-python",
   "name": "python",
   "nbconvert_exporter": "python",
   "pygments_lexer": "ipython2",
   "version": "2.7.6"
  }
 },
 "nbformat": 4,
 "nbformat_minor": 5
}
